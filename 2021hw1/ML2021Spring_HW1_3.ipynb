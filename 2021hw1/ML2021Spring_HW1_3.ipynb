{
 "nbformat": 4,
 "nbformat_minor": 0,
 "metadata": {
  "colab": {
   "name": "ML2021Spring - HW1.ipynb",
   "provenance": []
  },
  "kernelspec": {
   "name": "python3",
   "display_name": "Python 3 (ipykernel)",
   "language": "python"
  },
  "accelerator": "GPU"
 },
 "cells": [
  {
   "cell_type": "markdown",
   "metadata": {
    "id": "mz0_QVkxCrX3"
   },
   "source": [
    "# **Homework 1: COVID-19 Cases Prediction (Regression)**"
   ]
  },
  {
   "cell_type": "markdown",
   "metadata": {
    "id": "ZeZnPAiwDRWG"
   },
   "source": [
    "Author: Heng-Jui Chang\n",
    "\n",
    "Slides: https://github.com/ga642381/ML2021-Spring/blob/main/HW01/HW01.pdf  \n",
    "Videos (Mandarin): https://cool.ntu.edu.tw/courses/4793/modules/items/172854  \n",
    "https://cool.ntu.edu.tw/courses/4793/modules/items/172853  \n",
    "Video (English): https://cool.ntu.edu.tw/courses/4793/modules/items/176529\n",
    "\n",
    "\n",
    "Objectives:\n",
    "* Solve a regression problem with deep neural networks (DNN).\n",
    "* Understand basic DNN training tips.\n",
    "* Get familiar with PyTorch.\n",
    "\n",
    "If any questions, please contact the TAs via TA hours, NTU COOL, or email.\n"
   ]
  },
  {
   "cell_type": "markdown",
   "metadata": {
    "id": "Jx3x1nDkG-Uy"
   },
   "source": [
    "# **Download Data**\n",
    "\n",
    "\n",
    "If the Google drive links are dead, you can download data from [kaggle](https://www.kaggle.com/c/ml2021spring-hw1/data), and upload data manually to the workspace."
   ]
  },
  {
   "metadata": {
    "ExecuteTime": {
     "end_time": "2025-09-09T08:30:58.659691Z",
     "start_time": "2025-09-09T08:30:58.656278Z"
    }
   },
   "cell_type": "code",
   "source": [
    "tr_path = 'covid.train.csv'  # path to training data\n",
    "tt_path = 'covid.test.csv'   # path to testing dat"
   ],
   "outputs": [],
   "execution_count": 17
  },
  {
   "cell_type": "code",
   "metadata": {
    "colab": {
     "base_uri": "https://localhost:8080/"
    },
    "id": "tMj55YDKG6ch",
    "outputId": "82b6f68b-9693-4c49-a001-b49615a6efff"
   },
   "source": [
    "!gdown --id '19CCyCgJrUxtvgZF53vnctJiOJ23T5mqF' --output covid.train.csv\n",
    "!gdown --id '1CE240jLm2npU-tdz81-oVKEF3T2yfT1O' --output covid.test.csv"
   ],
   "execution_count": 1,
   "outputs": [
    {
     "output_type": "stream",
     "name": "stdout",
     "text": [
      "/usr/local/lib/python3.12/dist-packages/gdown/__main__.py:140: FutureWarning: Option `--id` was deprecated in version 4.3.1 and will be removed in 5.0. You don't need to pass it anymore to use a file ID.\n",
      "  warnings.warn(\n",
      "Downloading...\n",
      "From: https://drive.google.com/uc?id=19CCyCgJrUxtvgZF53vnctJiOJ23T5mqF\n",
      "To: /content/covid.train.csv\n",
      "100% 2.00M/2.00M [00:00<00:00, 129MB/s]\n",
      "/usr/local/lib/python3.12/dist-packages/gdown/__main__.py:140: FutureWarning: Option `--id` was deprecated in version 4.3.1 and will be removed in 5.0. You don't need to pass it anymore to use a file ID.\n",
      "  warnings.warn(\n",
      "Downloading...\n",
      "From: https://drive.google.com/uc?id=1CE240jLm2npU-tdz81-oVKEF3T2yfT1O\n",
      "To: /content/covid.test.csv\n",
      "100% 651k/651k [00:00<00:00, 66.6MB/s]\n"
     ]
    }
   ]
  },
  {
   "cell_type": "markdown",
   "metadata": {
    "id": "wS_4-77xHk44"
   },
   "source": [
    "# **Import Some Packages**"
   ]
  },
  {
   "cell_type": "code",
   "metadata": {
    "id": "k-onQd4JNA5H",
    "ExecuteTime": {
     "end_time": "2025-09-09T08:29:05.342677Z",
     "start_time": "2025-09-09T08:29:05.337252Z"
    }
   },
   "source": [
    "# PyTorch\n",
    "import torch\n",
    "import torch.nn as nn\n",
    "from torch.utils.data import Dataset, DataLoader\n",
    "\n",
    "# For data preprocess\n",
    "import numpy as np\n",
    "import csv\n",
    "import os\n",
    "\n",
    "# For plotting\n",
    "import matplotlib.pyplot as plt\n",
    "from matplotlib.pyplot import figure\n",
    "\n",
    "myseed = 42069  # set a random seed for reproducibility\n",
    "torch.backends.cudnn.deterministic = True\n",
    "torch.backends.cudnn.benchmark = False\n",
    "np.random.seed(myseed)\n",
    "torch.manual_seed(myseed)\n",
    "if torch.cuda.is_available():\n",
    "    torch.cuda.manual_seed_all(myseed)"
   ],
   "outputs": [],
   "execution_count": 2
  },
  {
   "cell_type": "markdown",
   "metadata": {
    "id": "BtE3b6JEH7rw"
   },
   "source": [
    "# **Some Utilities**\n",
    "\n",
    "You do not need to modify this part."
   ]
  },
  {
   "cell_type": "code",
   "metadata": {
    "id": "FWMT3uf1NGQp",
    "ExecuteTime": {
     "end_time": "2025-09-09T08:29:06.044143Z",
     "start_time": "2025-09-09T08:29:06.037281Z"
    }
   },
   "source": [
    "def get_device():\n",
    "    ''' Get device (if GPU is available, use GPU) '''\n",
    "    return 'cuda' if torch.cuda.is_available() else 'cpu'\n",
    "\n",
    "def plot_learning_curve(loss_record, title=''):\n",
    "    ''' Plot learning curve of your DNN (train & dev loss) '''\n",
    "    total_steps = len(loss_record['train'])\n",
    "    x_1 = range(total_steps)\n",
    "    x_2 = x_1[::len(loss_record['train']) // len(loss_record['dev'])]\n",
    "    figure(figsize=(6, 4))\n",
    "    plt.plot(x_1, loss_record['train'], c='tab:red', label='train')\n",
    "    plt.plot(x_2, loss_record['dev'], c='tab:cyan', label='dev')\n",
    "    plt.ylim(0.0, 5.)\n",
    "    plt.xlabel('Training steps')\n",
    "    plt.ylabel('MSE loss')\n",
    "    plt.title('Learning curve of {}'.format(title))\n",
    "    plt.legend()\n",
    "    plt.show()\n",
    "\n",
    "\n",
    "def plot_pred(dv_set, model, device, lim=35., preds=None, targets=None):\n",
    "    ''' Plot prediction of your DNN '''\n",
    "    if preds is None or targets is None:\n",
    "        model.eval()\n",
    "        preds, targets = [], []\n",
    "        for x, y in dv_set:\n",
    "            x, y = x.to(device), y.to(device)\n",
    "            with torch.no_grad():\n",
    "                pred = model(x)\n",
    "                preds.append(pred.detach().cpu())\n",
    "                targets.append(y.detach().cpu())\n",
    "        preds = torch.cat(preds, dim=0).numpy()\n",
    "        targets = torch.cat(targets, dim=0).numpy()\n",
    "\n",
    "    figure(figsize=(5, 5))\n",
    "    plt.scatter(targets, preds, c='r', alpha=0.5)\n",
    "    plt.plot([-0.2, lim], [-0.2, lim], c='b')\n",
    "    plt.xlim(-0.2, lim)\n",
    "    plt.ylim(-0.2, lim)\n",
    "    plt.xlabel('ground truth value')\n",
    "    plt.ylabel('predicted value')\n",
    "    plt.title('Ground Truth v.s. Prediction')\n",
    "    plt.show()"
   ],
   "outputs": [],
   "execution_count": 3
  },
  {
   "cell_type": "markdown",
   "metadata": {
    "id": "39U_XFX6KOoj"
   },
   "source": [
    "# **Preprocess**\n",
    "\n",
    "We have three kinds of datasets:\n",
    "* `train`: for training\n",
    "* `dev`: for validation\n",
    "* `test`: for testing (w/o target value)"
   ]
  },
  {
   "cell_type": "markdown",
   "metadata": {
    "id": "TQ-MdwpLL7Dt"
   },
   "source": [
    "## **Dataset**\n",
    "\n",
    "The `COVID19Dataset` below does:\n",
    "* read `.csv` files\n",
    "* extract features\n",
    "* split `covid.train.csv` into train/dev sets\n",
    "* normalize features\n",
    "\n",
    "Finishing `TODO` below might make you pass medium baseline."
   ]
  },
  {
   "cell_type": "code",
   "metadata": {
    "id": "0zlpIp9ANJRU",
    "ExecuteTime": {
     "end_time": "2025-09-09T08:29:07.134592Z",
     "start_time": "2025-09-09T08:29:07.126547Z"
    }
   },
   "source": [
    "class COVID19Dataset(Dataset):\n",
    "    ''' Dataset for loading and preprocessing the COVID19 dataset '''\n",
    "    def __init__(self,\n",
    "                 path,\n",
    "                 mode='train',\n",
    "                 target_only=False):\n",
    "        self.mode = mode\n",
    "\n",
    "        # Read data into numpy arrays\n",
    "        with open(path, 'r') as fp:\n",
    "            data = list(csv.reader(fp))\n",
    "            data = np.array(data[1:])[:, 1:].astype(float)\n",
    "\n",
    "        if not target_only:\n",
    "            feats = list(range(93))\n",
    "        else:\n",
    "            # TODO: Using 40 states & 2 tested_positive features (indices = 57 & 75)\n",
    "            pass\n",
    "\n",
    "        if mode == 'test':\n",
    "            # Testing data\n",
    "            # data: 893 x 93 (40 states + day 1 (18) + day 2 (18) + day 3 (17))\n",
    "            data = data[:, feats]\n",
    "            self.data = torch.FloatTensor(data)\n",
    "        else:\n",
    "            # Training data (train/dev sets)\n",
    "            # data: 2700 x 94 (40 states + day 1 (18) + day 2 (18) + day 3 (18))\n",
    "            target = data[:, -1]\n",
    "            data = data[:, feats]\n",
    "\n",
    "            # Splitting training data into train & dev sets\n",
    "            if mode == 'train':\n",
    "                indices = [i for i in range(len(data)) if i % 10 != 0]\n",
    "            elif mode == 'dev':\n",
    "                indices = [i for i in range(len(data)) if i % 10 == 0]\n",
    "\n",
    "            # Convert data into PyTorch tensors\n",
    "            self.data = torch.FloatTensor(data[indices])\n",
    "            self.target = torch.FloatTensor(target[indices])\n",
    "\n",
    "        # Normalize features (you may remove this part to see what will happen)\n",
    "        self.data[:, 40:] = \\\n",
    "            (self.data[:, 40:] - self.data[:, 40:].mean(dim=0, keepdim=True)) \\\n",
    "            / self.data[:, 40:].std(dim=0, keepdim=True)\n",
    "\n",
    "        self.dim = self.data.shape[1]\n",
    "\n",
    "        print('Finished reading the {} set of COVID19 Dataset ({} samples found, each dim = {})'\n",
    "              .format(mode, len(self.data), self.dim))\n",
    "\n",
    "    def __getitem__(self, index):\n",
    "        # Returns one sample at a time\n",
    "        if self.mode in ['train', 'dev']:\n",
    "            # For training\n",
    "            return self.data[index], self.target[index]\n",
    "        else:\n",
    "            # For testing (no target)\n",
    "            return self.data[index]\n",
    "\n",
    "    def __len__(self):\n",
    "        # Returns the size of the dataset\n",
    "        return len(self.data)"
   ],
   "outputs": [],
   "execution_count": 4
  },
  {
   "cell_type": "markdown",
   "metadata": {
    "id": "AlhTlkE7MDo3"
   },
   "source": [
    "## **DataLoader**\n",
    "\n",
    "A `DataLoader` loads data from a given `Dataset` into batches.\n"
   ]
  },
  {
   "cell_type": "code",
   "metadata": {
    "id": "hlhLk5t6MBX3",
    "ExecuteTime": {
     "end_time": "2025-09-09T08:29:07.874551Z",
     "start_time": "2025-09-09T08:29:07.870145Z"
    }
   },
   "source": [
    "def prep_dataloader(path, mode, batch_size, n_jobs=0, target_only=False):\n",
    "    ''' Generates a dataset, then is put into a dataloader. '''\n",
    "    dataset = COVID19Dataset(path, mode=mode, target_only=target_only)  # Construct dataset\n",
    "    dataloader = DataLoader(\n",
    "        dataset, batch_size,\n",
    "        shuffle=(mode == 'train'), drop_last=False,\n",
    "        num_workers=n_jobs, pin_memory=True)                            # Construct dataloader\n",
    "    return dataloader"
   ],
   "outputs": [],
   "execution_count": 5
  },
  {
   "cell_type": "markdown",
   "metadata": {
    "id": "SGuycwR0MeQB"
   },
   "source": [
    "# **Deep Neural Network**\n",
    "\n",
    "`NeuralNet` is an `nn.Module` designed for regression.\n",
    "The DNN consists of 2 fully-connected layers with ReLU activation.\n",
    "This module also included a function `cal_loss` for calculating loss.\n"
   ]
  },
  {
   "cell_type": "code",
   "metadata": {
    "id": "49-uXYovOAI0",
    "colab": {
     "base_uri": "https://localhost:8080/",
     "height": 112
    },
    "outputId": "14d8f4c3-c335-42b5-8f27-55d0a69ddcb6",
    "ExecuteTime": {
     "end_time": "2025-09-09T09:01:04.670043Z",
     "start_time": "2025-09-09T09:01:04.664044Z"
    }
   },
   "source": [
    "class NeuralNet(nn.Module):\n",
    "    ''' A simple fully-connected deep neural network '''\n",
    "    def __init__(self, input_dim,hiden_dim=64,num_hidden_layers=3,output_dim=1,dropout_rate=0.1):\n",
    "        super(NeuralNet, self).__init__()\n",
    "        layers = []\n",
    "\n",
    "        # Define your neural network here\n",
    "        # TODO: How to modify this model to achieve better performance?\n",
    "        #输入层\n",
    "        layers.append(nn.Linear(input_dim, hiden_dim))\n",
    "        layers.append(nn.ReLU())\n",
    "        layers.append(nn.Dropout(dropout_rate))\n",
    "        \n",
    "        for i in range(num_hidden_layers):\n",
    "            layers.append(nn.Linear(hiden_dim, hiden_dim))\n",
    "            layers.append(nn.ReLU())\n",
    "            layers.append(nn.Dropout(dropout_rate))\n",
    "        \n",
    "        #输出层\n",
    "        layers.append(nn.Linear(hiden_dim, output_dim))\n",
    "        \n",
    "        \n",
    "        self.net = nn.Sequential(*layers)\n",
    "\n",
    "        # Mean squared error loss\n",
    "        self.criterion = nn.MSELoss(reduction='mean')\n",
    "         # 初始化权重\n",
    "    #     self._initialize_weights()\n",
    "    # \n",
    "    # def _initialize_weights(self):\n",
    "    #     for m in self.modules():\n",
    "    #         if isinstance(m, nn.Linear):\n",
    "    #             nn.init.kaiming_normal_(m.weight, mode='fan_in', nonlinearity='relu')\n",
    "    #             nn.init.zeros_(m.bias)\n",
    "\n",
    "    def forward(self, x):\n",
    "        ''' Given input of size (batch_size x input_dim), compute output of the network '''\n",
    "        return self.net(x).squeeze(1)\n",
    "\n",
    "    def cal_loss(self, pred, target,l2_lambda=0.001):\n",
    "        ''' Calculate loss '''\n",
    "        mse_loss = self.criterion(pred, target)\n",
    "        # TODO: you may implement L1/L2 regularization here\n",
    "        l2_reg = torch.tensor(0.,device=pred.device)\n",
    "        for param in self.parameters():\n",
    "            l2_reg += torch.norm(param,2)\n",
    "        return mse_loss+l2_lambda*l2_reg"
   ],
   "outputs": [],
   "execution_count": 63
  },
  {
   "cell_type": "markdown",
   "metadata": {
    "id": "DvFWVjZ5Nvga"
   },
   "source": [
    "# **Train/Dev/Test**"
   ]
  },
  {
   "cell_type": "markdown",
   "metadata": {
    "id": "MAM8QecJOyqn"
   },
   "source": [
    "## **Training**"
   ]
  },
  {
   "cell_type": "code",
   "metadata": {
    "id": "lOqcmYzMO7jB",
    "ExecuteTime": {
     "end_time": "2025-09-09T09:01:05.451301Z",
     "start_time": "2025-09-09T09:01:05.445941Z"
    }
   },
   "source": [
    "def train(tr_set, dv_set, model, config, device):\n",
    "    ''' DNN training '''\n",
    "\n",
    "    n_epochs = config['n_epochs']  # Maximum number of epochs\n",
    "\n",
    "    # Setup optimizer\n",
    "    optimizer = getattr(torch.optim, config['optimizer'])(\n",
    "        model.parameters(), **config['optim_hparas'])\n",
    "\n",
    "    min_mse = 1000.\n",
    "    loss_record = {'train': [], 'dev': []}      # for recording training loss\n",
    "    early_stop_cnt = 0\n",
    "    epoch = 0\n",
    "    while epoch < n_epochs:\n",
    "        model.train()                           # set model to training mode\n",
    "        for x, y in tr_set:                     # iterate through the dataloader\n",
    "            optimizer.zero_grad()               # set gradient to zero\n",
    "            x, y = x.to(device), y.to(device)   # move data to device (cpu/cuda)\n",
    "            pred = model(x)                     # forward pass (compute output)\n",
    "            mse_loss = model.cal_loss(pred, y)  # compute loss\n",
    "            mse_loss.backward()                 # compute gradient (backpropagation)\n",
    "            optimizer.step()                    # update model with optimizer\n",
    "            loss_record['train'].append(mse_loss.detach().cpu().item())\n",
    "\n",
    "        # After each epoch, test your model on the validation (development) set.\n",
    "        dev_mse = dev(dv_set, model, device)\n",
    "        if dev_mse < min_mse:\n",
    "            # Save model if your model improved\n",
    "            min_mse = dev_mse\n",
    "            print('Saving model (epoch = {:4d}, loss = {:.4f})'\n",
    "                .format(epoch + 1, min_mse))\n",
    "            torch.save(model.state_dict(), config['save_path'])  # Save model to specified path\n",
    "            early_stop_cnt = 0\n",
    "        else:\n",
    "            early_stop_cnt += 1\n",
    "\n",
    "        epoch += 1\n",
    "        loss_record['dev'].append(dev_mse)\n",
    "        if early_stop_cnt > config['early_stop']:\n",
    "            # Stop training if your model stops improving for \"config['early_stop']\" epochs.\n",
    "            break\n",
    "\n",
    "    print('Finished training after {} epochs'.format(epoch))\n",
    "    return min_mse, loss_record"
   ],
   "outputs": [],
   "execution_count": 64
  },
  {
   "cell_type": "markdown",
   "metadata": {
    "id": "0hSd4Bn3O2PL"
   },
   "source": [
    "## **Validation**"
   ]
  },
  {
   "cell_type": "code",
   "metadata": {
    "id": "yrxrD3YsN3U2",
    "ExecuteTime": {
     "end_time": "2025-09-09T09:01:06.251511Z",
     "start_time": "2025-09-09T09:01:06.247015Z"
    }
   },
   "source": [
    "def dev(dv_set, model, device):\n",
    "    model.eval()                                # set model to evalutation mode\n",
    "    total_loss = 0\n",
    "    for x, y in dv_set:                         # iterate through the dataloader\n",
    "        x, y = x.to(device), y.to(device)       # move data to device (cpu/cuda)\n",
    "        with torch.no_grad():                   # disable gradient calculation\n",
    "            pred = model(x)                     # forward pass (compute output)\n",
    "            mse_loss = model.cal_loss(pred, y)  # compute loss\n",
    "        total_loss += mse_loss.detach().cpu().item() * len(x)  # accumulate loss\n",
    "    total_loss = total_loss / len(dv_set.dataset)              # compute averaged loss\n",
    "\n",
    "    return total_loss"
   ],
   "outputs": [],
   "execution_count": 65
  },
  {
   "cell_type": "markdown",
   "metadata": {
    "id": "g0pdrhQAO41L"
   },
   "source": [
    "## **Testing**"
   ]
  },
  {
   "cell_type": "code",
   "metadata": {
    "id": "aSBMRFlYN5tB",
    "ExecuteTime": {
     "end_time": "2025-09-09T09:01:06.814700Z",
     "start_time": "2025-09-09T09:01:06.811369Z"
    }
   },
   "source": [
    "def test(tt_set, model, device):\n",
    "    model.eval()                                # set model to evalutation mode\n",
    "    preds = []\n",
    "    for x in tt_set:                            # iterate through the dataloader\n",
    "        x = x.to(device)                        # move data to device (cpu/cuda)\n",
    "        with torch.no_grad():                   # disable gradient calculation\n",
    "            pred = model(x)                     # forward pass (compute output)\n",
    "            preds.append(pred.detach().cpu())   # collect prediction\n",
    "    preds = torch.cat(preds, dim=0).numpy()     # concatenate all predictions and convert to a numpy array\n",
    "    return preds"
   ],
   "outputs": [],
   "execution_count": 66
  },
  {
   "cell_type": "markdown",
   "metadata": {
    "id": "SvckkF5dvf0j"
   },
   "source": [
    "# **Setup Hyper-parameters**\n",
    "\n",
    "`config` contains hyper-parameters for training and the path to save your model."
   ]
  },
  {
   "cell_type": "code",
   "metadata": {
    "id": "NPXpdumwPjE7",
    "ExecuteTime": {
     "end_time": "2025-09-09T09:01:07.533015Z",
     "start_time": "2025-09-09T09:01:07.527664Z"
    }
   },
   "source": [
    "device = get_device()                 # get the current available device ('cpu' or 'cuda')\n",
    "os.makedirs('models', exist_ok=True)  # The trained model will be saved to ./models/\n",
    "target_only = False                   # TODO: Using 40 states & 2 tested_positive features\n",
    "\n",
    "# TODO: How to tune these hyper-parameters to improve your model's performance?\n",
    "config = {\n",
    "    'n_epochs': 5000,                # maximum number of epochs\n",
    "    'batch_size': 512,               # mini-batch size for dataloader\n",
    "    'optimizer': 'SGD',              # optimization algorithm (optimizer in torch.optim)\n",
    "    'optim_hparas': {                # hyper-parameters for the optimizer (depends on which optimizer you are using)\n",
    "        'lr': 0.0001,                 # learning rate of SGD\n",
    "        'momentum': 0.9              # momentum for SGD\n",
    "    },\n",
    "    'early_stop': 500,               # early stopping epochs (the number epochs since your model's last improvement)\n",
    "    'save_path': 'models/model.pth'  # your model will be saved here\n",
    "}"
   ],
   "outputs": [],
   "execution_count": 67
  },
  {
   "cell_type": "markdown",
   "metadata": {
    "id": "6j1eOV3TOH-j"
   },
   "source": [
    "# **Load data and model**"
   ]
  },
  {
   "cell_type": "code",
   "metadata": {
    "colab": {
     "base_uri": "https://localhost:8080/"
    },
    "id": "eNrYBMmePLKm",
    "outputId": "28903b80-7d7b-418b-9470-302ccd269895",
    "ExecuteTime": {
     "end_time": "2025-09-09T09:01:08.529213Z",
     "start_time": "2025-09-09T09:01:08.189559Z"
    }
   },
   "source": [
    "tr_set = prep_dataloader(tr_path, 'train', config['batch_size'], target_only=target_only)\n",
    "dv_set = prep_dataloader(tr_path, 'dev', config['batch_size'], target_only=target_only)\n",
    "tt_set = prep_dataloader(tt_path, 'test', config['batch_size'], target_only=target_only)"
   ],
   "outputs": [
    {
     "name": "stdout",
     "output_type": "stream",
     "text": [
      "Finished reading the train set of COVID19 Dataset (2430 samples found, each dim = 93)\n",
      "Finished reading the dev set of COVID19 Dataset (270 samples found, each dim = 93)\n",
      "Finished reading the test set of COVID19 Dataset (893 samples found, each dim = 93)\n"
     ]
    }
   ],
   "execution_count": 68
  },
  {
   "cell_type": "code",
   "metadata": {
    "id": "FHylSirLP9oh",
    "ExecuteTime": {
     "end_time": "2025-09-09T09:07:22.265462Z",
     "start_time": "2025-09-09T09:07:22.260363Z"
    }
   },
   "source": "model = NeuralNet(input_dim=tr_set.dataset.dim, output_dim=1,num_hidden_layers=5).to(device)  # Construct model and move to device",
   "outputs": [],
   "execution_count": 73
  },
  {
   "cell_type": "markdown",
   "metadata": {
    "id": "sX2B_zgSOPTJ"
   },
   "source": [
    "# **Start Training!**"
   ]
  },
  {
   "cell_type": "code",
   "metadata": {
    "colab": {
     "base_uri": "https://localhost:8080/"
    },
    "id": "GrEbUxazQAAZ",
    "outputId": "83f58a12-014e-426c-dc03-8ec861f56200",
    "ExecuteTime": {
     "end_time": "2025-09-09T09:08:38.524827Z",
     "start_time": "2025-09-09T09:07:23.317130Z"
    }
   },
   "source": [
    "model_loss, model_loss_record = train(tr_set, dv_set, model, config, device)"
   ],
   "outputs": [
    {
     "name": "stdout",
     "output_type": "stream",
     "text": [
      "Saving model (epoch =    1, loss = 325.6887)\n",
      "Saving model (epoch =    2, loss = 321.2327)\n",
      "Saving model (epoch =    3, loss = 315.4867)\n",
      "Saving model (epoch =    4, loss = 308.9647)\n",
      "Saving model (epoch =    5, loss = 301.8812)\n",
      "Saving model (epoch =    6, loss = 294.2314)\n",
      "Saving model (epoch =    7, loss = 285.7486)\n",
      "Saving model (epoch =    8, loss = 276.1066)\n",
      "Saving model (epoch =    9, loss = 264.9102)\n",
      "Saving model (epoch =   10, loss = 251.4535)\n",
      "Saving model (epoch =   11, loss = 234.8681)\n",
      "Saving model (epoch =   12, loss = 213.6892)\n",
      "Saving model (epoch =   13, loss = 185.8079)\n",
      "Saving model (epoch =   14, loss = 148.4981)\n",
      "Saving model (epoch =   15, loss = 101.1388)\n",
      "Saving model (epoch =   16, loss = 55.8511)\n",
      "Saving model (epoch =   17, loss = 50.1191)\n",
      "Saving model (epoch =   18, loss = 46.5290)\n",
      "Saving model (epoch =   19, loss = 32.9402)\n",
      "Saving model (epoch =   20, loss = 30.3086)\n",
      "Saving model (epoch =   21, loss = 22.2218)\n",
      "Saving model (epoch =   22, loss = 19.6703)\n",
      "Saving model (epoch =   23, loss = 17.5719)\n",
      "Saving model (epoch =   25, loss = 15.7495)\n",
      "Saving model (epoch =   26, loss = 14.0249)\n",
      "Saving model (epoch =   27, loss = 13.1165)\n",
      "Saving model (epoch =   29, loss = 12.1306)\n",
      "Saving model (epoch =   30, loss = 11.1331)\n",
      "Saving model (epoch =   31, loss = 10.6343)\n",
      "Saving model (epoch =   32, loss = 9.9912)\n",
      "Saving model (epoch =   33, loss = 9.4473)\n",
      "Saving model (epoch =   34, loss = 8.9962)\n",
      "Saving model (epoch =   35, loss = 8.5500)\n",
      "Saving model (epoch =   36, loss = 8.2239)\n",
      "Saving model (epoch =   37, loss = 7.6288)\n",
      "Saving model (epoch =   38, loss = 7.1768)\n",
      "Saving model (epoch =   39, loss = 7.1426)\n",
      "Saving model (epoch =   40, loss = 6.8119)\n",
      "Saving model (epoch =   41, loss = 6.4970)\n",
      "Saving model (epoch =   42, loss = 6.2384)\n",
      "Saving model (epoch =   43, loss = 5.7511)\n",
      "Saving model (epoch =   44, loss = 5.5781)\n",
      "Saving model (epoch =   45, loss = 5.5292)\n",
      "Saving model (epoch =   46, loss = 5.1286)\n",
      "Saving model (epoch =   47, loss = 4.9811)\n",
      "Saving model (epoch =   48, loss = 4.8420)\n",
      "Saving model (epoch =   49, loss = 4.6903)\n",
      "Saving model (epoch =   51, loss = 4.2776)\n",
      "Saving model (epoch =   53, loss = 4.0475)\n",
      "Saving model (epoch =   54, loss = 3.8713)\n",
      "Saving model (epoch =   55, loss = 3.8271)\n",
      "Saving model (epoch =   57, loss = 3.7012)\n",
      "Saving model (epoch =   58, loss = 3.4487)\n",
      "Saving model (epoch =   61, loss = 3.1677)\n",
      "Saving model (epoch =   62, loss = 3.1221)\n",
      "Saving model (epoch =   65, loss = 3.1114)\n",
      "Saving model (epoch =   66, loss = 3.0080)\n",
      "Saving model (epoch =   69, loss = 2.9220)\n",
      "Saving model (epoch =   70, loss = 2.8173)\n",
      "Saving model (epoch =   73, loss = 2.7333)\n",
      "Saving model (epoch =   75, loss = 2.7212)\n",
      "Saving model (epoch =   76, loss = 2.6442)\n",
      "Saving model (epoch =   79, loss = 2.5108)\n",
      "Saving model (epoch =   80, loss = 2.4703)\n",
      "Saving model (epoch =   83, loss = 2.3981)\n",
      "Saving model (epoch =   88, loss = 2.3977)\n",
      "Saving model (epoch =   91, loss = 2.3846)\n",
      "Saving model (epoch =   92, loss = 2.2358)\n",
      "Saving model (epoch =   96, loss = 2.2238)\n",
      "Saving model (epoch =  100, loss = 2.1907)\n",
      "Saving model (epoch =  101, loss = 2.1782)\n",
      "Saving model (epoch =  103, loss = 2.1369)\n",
      "Saving model (epoch =  106, loss = 2.0085)\n",
      "Saving model (epoch =  109, loss = 2.0010)\n",
      "Saving model (epoch =  113, loss = 1.9529)\n",
      "Saving model (epoch =  114, loss = 1.9471)\n",
      "Saving model (epoch =  117, loss = 1.9024)\n",
      "Saving model (epoch =  122, loss = 1.8976)\n",
      "Saving model (epoch =  125, loss = 1.8532)\n",
      "Saving model (epoch =  130, loss = 1.8036)\n",
      "Saving model (epoch =  133, loss = 1.7558)\n",
      "Saving model (epoch =  147, loss = 1.7202)\n",
      "Saving model (epoch =  162, loss = 1.6717)\n",
      "Saving model (epoch =  169, loss = 1.6627)\n",
      "Saving model (epoch =  170, loss = 1.6213)\n",
      "Saving model (epoch =  182, loss = 1.5991)\n",
      "Saving model (epoch =  200, loss = 1.5619)\n",
      "Saving model (epoch =  218, loss = 1.5114)\n",
      "Saving model (epoch =  234, loss = 1.4743)\n",
      "Saving model (epoch =  266, loss = 1.4459)\n",
      "Saving model (epoch =  293, loss = 1.4333)\n",
      "Saving model (epoch =  305, loss = 1.4317)\n",
      "Saving model (epoch =  312, loss = 1.4253)\n",
      "Saving model (epoch =  313, loss = 1.3839)\n",
      "Saving model (epoch =  344, loss = 1.3600)\n",
      "Saving model (epoch =  351, loss = 1.3461)\n",
      "Saving model (epoch =  405, loss = 1.3409)\n",
      "Saving model (epoch =  423, loss = 1.3297)\n",
      "Saving model (epoch =  449, loss = 1.3257)\n",
      "Saving model (epoch =  456, loss = 1.3091)\n",
      "Saving model (epoch =  472, loss = 1.2731)\n",
      "Saving model (epoch =  476, loss = 1.2720)\n",
      "Saving model (epoch =  504, loss = 1.2544)\n",
      "Saving model (epoch =  518, loss = 1.2379)\n",
      "Saving model (epoch =  534, loss = 1.2269)\n",
      "Saving model (epoch =  539, loss = 1.2158)\n",
      "Saving model (epoch =  540, loss = 1.1974)\n",
      "Saving model (epoch =  585, loss = 1.1826)\n",
      "Saving model (epoch =  625, loss = 1.1766)\n",
      "Saving model (epoch =  638, loss = 1.1683)\n",
      "Saving model (epoch =  667, loss = 1.1505)\n",
      "Saving model (epoch =  695, loss = 1.1453)\n",
      "Saving model (epoch =  707, loss = 1.1278)\n",
      "Saving model (epoch =  724, loss = 1.1249)\n",
      "Saving model (epoch =  758, loss = 1.1191)\n",
      "Saving model (epoch =  833, loss = 1.1117)\n",
      "Saving model (epoch =  885, loss = 1.0848)\n",
      "Saving model (epoch =  962, loss = 1.0736)\n",
      "Saving model (epoch =  996, loss = 1.0728)\n",
      "Saving model (epoch = 1078, loss = 1.0684)\n",
      "Saving model (epoch = 1126, loss = 1.0601)\n",
      "Saving model (epoch = 1373, loss = 1.0561)\n",
      "Saving model (epoch = 1500, loss = 1.0391)\n",
      "Finished training after 2001 epochs\n"
     ]
    }
   ],
   "execution_count": 74
  },
  {
   "cell_type": "code",
   "metadata": {
    "colab": {
     "base_uri": "https://localhost:8080/",
     "height": 410
    },
    "id": "hsNO9nnXQBvP",
    "outputId": "d0c20e01-d082-4595-feb4-2fa85813d169"
   },
   "source": [
    "plot_learning_curve(model_loss_record, title='deep model')"
   ],
   "execution_count": 54,
   "outputs": [
    {
     "output_type": "display_data",
     "data": {
      "text/plain": [
       "<Figure size 600x400 with 1 Axes>"
      ],
      "image/png": "[encoded data removed]"
     },
     "metadata": {}
    }
   ]
  },
  {
   "cell_type": "code",
   "metadata": {
    "colab": {
     "base_uri": "https://localhost:8080/",
     "height": 487
    },
    "id": "3iZTVn5WQFpX",
    "outputId": "9629dfdc-cbaf-4a91-c4d4-682d29d4057b"
   },
   "source": [
    "del model\n",
    "model = NeuralNet(tr_set.dataset.dim).to(device)\n",
    "ckpt = torch.load(config['save_path'], map_location='cpu')  # Load your best model\n",
    "model.load_state_dict(ckpt)\n",
    "plot_pred(dv_set, model, device)  # Show prediction on the validation set"
   ],
   "execution_count": 55,
   "outputs": [
    {
     "output_type": "display_data",
     "data": {
      "text/plain": [
       "<Figure size 500x500 with 1 Axes>"
      ],
      "image/png": "[encoded data removed]"
     },
     "metadata": {}
    }
   ]
  },
  {
   "cell_type": "markdown",
   "metadata": {
    "id": "aQikz3IPiyPf"
   },
   "source": [
    "# **Testing**\n",
    "The predictions of your model on testing set will be stored at `pred.csv`."
   ]
  },
  {
   "cell_type": "code",
   "metadata": {
    "colab": {
     "base_uri": "https://localhost:8080/"
    },
    "id": "O8cTuQjQQOon",
    "outputId": "7c3d5f5e-4b04-42b6-d3ff-464f4eb55978",
    "ExecuteTime": {
     "end_time": "2025-09-09T08:46:52.228644Z",
     "start_time": "2025-09-09T08:46:52.216932Z"
    }
   },
   "source": [
    "def save_pred(preds, file):\n",
    "    ''' Save predictions to specified file '''\n",
    "    print('Saving results to {}'.format(file))\n",
    "    with open(file, 'w') as fp:\n",
    "        writer = csv.writer(fp)\n",
    "        writer.writerow(['id', 'tested_positive'])\n",
    "        for i, p in enumerate(preds):\n",
    "            writer.writerow([i, p])\n",
    "\n",
    "preds = test(tt_set, model, device)  # predict COVID-19 cases with your model\n",
    "save_pred(preds, 'pred.csv')         # save prediction file to pred.csv"
   ],
   "outputs": [
    {
     "name": "stdout",
     "output_type": "stream",
     "text": [
      "Saving results to pred.csv\n"
     ]
    }
   ],
   "execution_count": 30
  },
  {
   "cell_type": "markdown",
   "metadata": {
    "id": "nfrVxqJanGpE"
   },
   "source": [
    "# **Hints**\n",
    "\n",
    "## **Simple Baseline**\n",
    "* Run sample code\n",
    "\n",
    "## **Medium Baseline**\n",
    "* Feature selection: 40 states + 2 `tested_positive` (`TODO` in dataset)\n",
    "\n",
    "## **Strong Baseline**\n",
    "* Feature selection (what other features are useful?)\n",
    "* DNN architecture (layers? dimension? activation function?)\n",
    "* Training (mini-batch? optimizer? learning rate?)\n",
    "* L2 regularization\n",
    "* There are some mistakes in the sample code, can you find them?"
   ]
  },
  {
   "cell_type": "markdown",
   "metadata": {
    "id": "9tmCwXgpot3t"
   },
   "source": [
    "# **Reference**\n",
    "This code is completely written by Heng-Jui Chang @ NTUEE.  \n",
    "Copying or reusing this code is required to specify the original author.\n",
    "\n",
    "E.g.  \n",
    "Source: Heng-Jui Chang @ NTUEE (https://github.com/ga642381/ML2021-Spring/blob/main/HW01/HW01.ipynb)\n"
   ]
  }
 ]
}
