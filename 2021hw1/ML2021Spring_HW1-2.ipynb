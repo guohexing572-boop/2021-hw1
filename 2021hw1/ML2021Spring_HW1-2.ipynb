{
 "nbformat": 4,
 "nbformat_minor": 0,
 "metadata": {
  "colab": {
   "name": "ML2021Spring - HW1.ipynb",
   "provenance": []
  },
  "kernelspec": {
   "name": "python3",
   "display_name": "Python 3 (ipykernel)",
   "language": "python"
  },
  "accelerator": "GPU"
 },
 "cells": [
  {
   "cell_type": "markdown",
   "metadata": {
    "id": "mz0_QVkxCrX3"
   },
   "source": [
    "# **Homework 1: COVID-19 Cases Prediction (Regression)**"
   ]
  },
  {
   "cell_type": "markdown",
   "metadata": {
    "id": "ZeZnPAiwDRWG"
   },
   "source": [
    "Author: Heng-Jui Chang\n",
    "\n",
    "Slides: https://github.com/ga642381/ML2021-Spring/blob/main/HW01/HW01.pdf  \n",
    "Videos (Mandarin): https://cool.ntu.edu.tw/courses/4793/modules/items/172854  \n",
    "https://cool.ntu.edu.tw/courses/4793/modules/items/172853  \n",
    "Video (English): https://cool.ntu.edu.tw/courses/4793/modules/items/176529\n",
    "\n",
    "\n",
    "Objectives:\n",
    "* Solve a regression problem with deep neural networks (DNN).\n",
    "* Understand basic DNN training tips.\n",
    "* Get familiar with PyTorch.\n",
    "\n",
    "If any questions, please contact the TAs via TA hours, NTU COOL, or email.\n"
   ]
  },
  {
   "cell_type": "markdown",
   "metadata": {
    "id": "Jx3x1nDkG-Uy"
   },
   "source": [
    "# **Download Data**\n",
    "\n",
    "\n",
    "If the Google drive links are dead, you can download data from [kaggle](https://www.kaggle.com/c/ml2021spring-hw1/data), and upload data manually to the workspace."
   ]
  },
  {
   "cell_type": "code",
   "metadata": {
    "colab": {
     "base_uri": "https://localhost:8080/"
    },
    "id": "tMj55YDKG6ch",
    "outputId": "82b6f68b-9693-4c49-a001-b49615a6efff",
    "ExecuteTime": {
     "end_time": "2025-09-09T09:16:18.712692Z",
     "start_time": "2025-09-09T09:16:18.709478Z"
    }
   },
   "source": [
    "tr_path = 'covid.train.csv'  # path to training data\n",
    "tt_path = 'covid.test.csv'   # path to testing data\n",
    "# \n",
    "# !gdown --id '19CCyCgJrUxtvgZF53vnctJiOJ23T5mqF' --output covid.train.csv\n",
    "# !gdown --id '1CE240jLm2npU-tdz81-oVKEF3T2yfT1O' --output covid.test.csv"
   ],
   "outputs": [],
   "execution_count": 18
  },
  {
   "cell_type": "markdown",
   "metadata": {
    "id": "wS_4-77xHk44"
   },
   "source": [
    "# **Import Some Packages**"
   ]
  },
  {
   "cell_type": "code",
   "metadata": {
    "id": "k-onQd4JNA5H",
    "ExecuteTime": {
     "end_time": "2025-09-09T09:16:19.129816Z",
     "start_time": "2025-09-09T09:16:19.101850Z"
    }
   },
   "source": [
    "# PyTorch\n",
    "import torch\n",
    "import torch.nn as nn\n",
    "from torch.utils.data import Dataset, DataLoader\n",
    "\n",
    "# For data preprocess\n",
    "import numpy as np\n",
    "import csv\n",
    "import os\n",
    "\n",
    "# For plotting\n",
    "import matplotlib.pyplot as plt\n",
    "from matplotlib.pyplot import figure\n",
    "\n",
    "myseed = 42069  # set a random seed for reproducibility\n",
    "torch.backends.cudnn.deterministic = True\n",
    "torch.backends.cudnn.benchmark = False\n",
    "np.random.seed(myseed)\n",
    "torch.manual_seed(myseed)\n",
    "if torch.cuda.is_available():\n",
    "    torch.cuda.manual_seed_all(myseed)"
   ],
   "outputs": [],
   "execution_count": 19
  },
  {
   "cell_type": "markdown",
   "metadata": {
    "id": "BtE3b6JEH7rw"
   },
   "source": [
    "# **Some Utilities**\n",
    "\n",
    "You do not need to modify this part."
   ]
  },
  {
   "cell_type": "code",
   "metadata": {
    "id": "FWMT3uf1NGQp",
    "ExecuteTime": {
     "end_time": "2025-09-09T09:16:19.458724Z",
     "start_time": "2025-09-09T09:16:19.453829Z"
    }
   },
   "source": [
    "def get_device():\n",
    "    ''' Get device (if GPU is available, use GPU) '''\n",
    "    return 'cuda' if torch.cuda.is_available() else 'cpu'\n",
    "\n",
    "def plot_learning_curve(loss_record, title=''):\n",
    "    ''' Plot learning curve of your DNN (train & dev loss) '''\n",
    "    total_steps = len(loss_record['train'])\n",
    "    x_1 = range(total_steps)\n",
    "    x_2 = x_1[::len(loss_record['train']) // len(loss_record['dev'])]\n",
    "    figure(figsize=(6, 4))\n",
    "    plt.plot(x_1, loss_record['train'], c='tab:red', label='train')\n",
    "    plt.plot(x_2, loss_record['dev'], c='tab:cyan', label='dev')\n",
    "    plt.ylim(0.0, 5.)\n",
    "    plt.xlabel('Training steps')\n",
    "    plt.ylabel('MSE loss')\n",
    "    plt.title('Learning curve of {}'.format(title))\n",
    "    plt.legend()\n",
    "    plt.show()\n",
    "\n",
    "\n",
    "def plot_pred(dv_set, model, device, lim=35., preds=None, targets=None):\n",
    "    ''' Plot prediction of your DNN '''\n",
    "    if preds is None or targets is None:\n",
    "        model.eval()\n",
    "        preds, targets = [], []\n",
    "        for x, y in dv_set:\n",
    "            x, y = x.to(device), y.to(device)\n",
    "            with torch.no_grad():\n",
    "                pred = model(x)\n",
    "                preds.append(pred.detach().cpu())\n",
    "                targets.append(y.detach().cpu())\n",
    "        preds = torch.cat(preds, dim=0).numpy()\n",
    "        targets = torch.cat(targets, dim=0).numpy()\n",
    "\n",
    "    figure(figsize=(5, 5))\n",
    "    plt.scatter(targets, preds, c='r', alpha=0.5)\n",
    "    plt.plot([-0.2, lim], [-0.2, lim], c='b')\n",
    "    plt.xlim(-0.2, lim)\n",
    "    plt.ylim(-0.2, lim)\n",
    "    plt.xlabel('ground truth value')\n",
    "    plt.ylabel('predicted value')\n",
    "    plt.title('Ground Truth v.s. Prediction')\n",
    "    plt.show()"
   ],
   "outputs": [],
   "execution_count": 20
  },
  {
   "cell_type": "markdown",
   "metadata": {
    "id": "39U_XFX6KOoj"
   },
   "source": [
    "# **Preprocess**\n",
    "\n",
    "We have three kinds of datasets:\n",
    "* `train`: for training\n",
    "* `dev`: for validation\n",
    "* `test`: for testing (w/o target value)"
   ]
  },
  {
   "cell_type": "markdown",
   "metadata": {
    "id": "TQ-MdwpLL7Dt"
   },
   "source": [
    "## **Dataset**\n",
    "\n",
    "The `COVID19Dataset` below does:\n",
    "* read `.csv` files\n",
    "* extract features\n",
    "* split `covid.train.csv` into train/dev sets\n",
    "* normalize features\n",
    "\n",
    "Finishing `TODO` below might make you pass medium baseline."
   ]
  },
  {
   "cell_type": "code",
   "metadata": {
    "id": "0zlpIp9ANJRU",
    "ExecuteTime": {
     "end_time": "2025-09-09T09:16:19.987563Z",
     "start_time": "2025-09-09T09:16:19.982057Z"
    }
   },
   "source": [
    "class COVID19Dataset(Dataset):\n",
    "    ''' Dataset for loading and preprocessing the COVID19 dataset '''\n",
    "    def __init__(self,\n",
    "                 path,\n",
    "                 mode='train',\n",
    "                 target_only=False):\n",
    "        self.mode = mode\n",
    "\n",
    "        # Read data into numpy arrays\n",
    "        with open(path, 'r') as fp:\n",
    "            data = list(csv.reader(fp))\n",
    "            data = np.array(data[1:])[:, 1:].astype(float)\n",
    "\n",
    "        if not target_only:\n",
    "            feats = list(range(93))\n",
    "        else:\n",
    "            # TODO: Using 40 states & 2 tested_positive features (indices = 57 & 75)\n",
    "            # 使用40个州和2个tested_positive特征（索引57和75）\n",
    "            # 注意：Python是0索引，所以索引57对应位置56，索引75对应位置74\n",
    "            state_feats = list(range(40))  # 前40个特征是州\n",
    "            tested_positive_feats = [57, 75]  # 索引57和75的特征\n",
    "            feats = state_feats + tested_positive_feats\n",
    "\n",
    "        if mode == 'test':\n",
    "            # Testing data\n",
    "            # data: 893 x 93 (40 states + day 1 (18) + day 2 (18) + day 3 (17))\n",
    "            data = data[:, feats]\n",
    "            self.data = torch.FloatTensor(data)\n",
    "        else:\n",
    "            # Training data (train/dev sets)\n",
    "            # data: 2700 x 94 (40 states + day 1 (18) + day 2 (18) + day 3 (18))\n",
    "            target = data[:, -1]\n",
    "            data = data[:, feats]\n",
    "\n",
    "            # Splitting training data into train & dev sets\n",
    "            if mode == 'train':\n",
    "                indices = [i for i in range(len(data)) if i % 10 != 0]\n",
    "            elif mode == 'dev':\n",
    "                indices = [i for i in range(len(data)) if i % 10 == 0]\n",
    "\n",
    "            # Convert data into PyTorch tensors\n",
    "            self.data = torch.FloatTensor(data[indices])\n",
    "            self.target = torch.FloatTensor(target[indices])\n",
    "\n",
    "        # Normalize features (you may remove this part to see what will happen)\n",
    "        if self.data.shape[1] > 40:  # 确保有超过40个特征\n",
    "            self.data[:, 40:] = \\\n",
    "                (self.data[:, 40:] - self.data[:, 40:].mean(dim=0, keepdim=True)) \\\n",
    "                / self.data[:, 40:].std(dim=0, keepdim=True)\n",
    "\n",
    "        self.dim = self.data.shape[1]\n",
    "\n",
    "        print('Finished reading the {} set of COVID19 Dataset ({} samples found, each dim = {})'\n",
    "              .format(mode, len(self.data), self.dim))\n",
    "\n",
    "    def __getitem__(self, index):\n",
    "        # Returns one sample at a time\n",
    "        if self.mode in ['train', 'dev']:\n",
    "            # For training\n",
    "            return self.data[index], self.target[index]\n",
    "        else:\n",
    "            # For testing (no target)\n",
    "            return self.data[index]\n",
    "\n",
    "    def __len__(self):\n",
    "        # Returns the size of the dataset\n",
    "        return len(self.data)"
   ],
   "outputs": [],
   "execution_count": 21
  },
  {
   "cell_type": "markdown",
   "metadata": {
    "id": "AlhTlkE7MDo3"
   },
   "source": [
    "## **DataLoader**\n",
    "\n",
    "A `DataLoader` loads data from a given `Dataset` into batches.\n"
   ]
  },
  {
   "cell_type": "code",
   "metadata": {
    "id": "hlhLk5t6MBX3",
    "ExecuteTime": {
     "end_time": "2025-09-09T09:16:20.522721Z",
     "start_time": "2025-09-09T09:16:20.519176Z"
    }
   },
   "source": [
    "def prep_dataloader(path, mode, batch_size, n_jobs=0, target_only=False):\n",
    "    ''' Generates a dataset, then is put into a dataloader. '''\n",
    "    dataset = COVID19Dataset(path, mode=mode, target_only=target_only)  # Construct dataset\n",
    "    dataloader = DataLoader(\n",
    "        dataset, batch_size,\n",
    "        shuffle=(mode == 'train'), drop_last=False,\n",
    "        num_workers=n_jobs, pin_memory=True)                            # Construct dataloader\n",
    "    return dataloader"
   ],
   "outputs": [],
   "execution_count": 22
  },
  {
   "cell_type": "markdown",
   "metadata": {
    "id": "SGuycwR0MeQB"
   },
   "source": [
    "# **Deep Neural Network**\n",
    "\n",
    "`NeuralNet` is an `nn.Module` designed for regression.\n",
    "The DNN consists of 2 fully-connected layers with ReLU activation.\n",
    "This module also included a function `cal_loss` for calculating loss.\n"
   ]
  },
  {
   "cell_type": "code",
   "metadata": {
    "id": "49-uXYovOAI0",
    "colab": {
     "base_uri": "https://localhost:8080/",
     "height": 112
    },
    "outputId": "14d8f4c3-c335-42b5-8f27-55d0a69ddcb6",
    "ExecuteTime": {
     "end_time": "2025-09-09T09:16:21.554204Z",
     "start_time": "2025-09-09T09:16:21.550613Z"
    }
   },
   "source": [
    "# class NeuralNet(nn.Module):\n",
    "#     ''' A simple fully-connected deep neural network '''\n",
    "#     def __init__(self, input_dim):\n",
    "#         super(NeuralNet, self).__init__()\n",
    "# \n",
    "#         # Define your neural network here\n",
    "#         # TODO: How to modify this model to achieve better performance?\n",
    "#         self.net = nn.Sequential(\n",
    "#             nn.Linear(input_dim, 64),\n",
    "#             nn.ReLU(),\n",
    "#             nn.Linear(64, 64),\n",
    "#             nn.ReLU(),\n",
    "#             nn.Linear(64, 32),\n",
    "#             nn.ReLU(),\n",
    "#             nn.Linear(32, 32),\n",
    "#             nn.ReLU(),\n",
    "#             nn.Linear(32, 1)\n",
    "#         )\n",
    "# \n",
    "#         # Mean squared error loss\n",
    "#         self.criterion = nn.MSELoss(reduction='mean')\n",
    "# \n",
    "#     def forward(self, x):\n",
    "#         ''' Given input of size (batch_size x input_dim), compute output of the network '''\n",
    "#         return self.net(x).squeeze(1)\n",
    "# \n",
    "#     def cal_loss(self, pred, target):\n",
    "#         ''' Calculate loss '''\n",
    "#         # TODO: you may implement L1/L2 regularization here\n",
    "#         return self.criterion(pred, target)"
   ],
   "outputs": [],
   "execution_count": 23
  },
  {
   "metadata": {
    "ExecuteTime": {
     "end_time": "2025-09-09T09:16:21.825142Z",
     "start_time": "2025-09-09T09:16:21.823106Z"
    }
   },
   "cell_type": "code",
   "source": "",
   "outputs": [],
   "execution_count": 23
  },
  {
   "metadata": {
    "ExecuteTime": {
     "end_time": "2025-09-09T09:16:22.366139Z",
     "start_time": "2025-09-09T09:16:22.358153Z"
    }
   },
   "cell_type": "code",
   "source": [
    "class AdvancedNeuralNet(nn.Module):\n",
    "    ''' 更高级的神经网络架构 '''\n",
    "    def __init__(self, input_dim, hidden_dims=[512, 256, 128, 64], \n",
    "                 dropout_rates=[0.4, 0.3, 0.2, 0.1], use_batch_norm=True,\n",
    "                 l2_lambda=0.001, use_residual=False):\n",
    "        super(AdvancedNeuralNet, self).__init__()\n",
    "        \n",
    "        self.l2_lambda = l2_lambda\n",
    "        self.use_residual = use_residual\n",
    "        \n",
    "        # 构建残差块（如果使用残差连接）\n",
    "        if use_residual and len(hidden_dims) >= 2:\n",
    "            self.residual_layers = self._create_residual_layers(input_dim, hidden_dims)\n",
    "        else:\n",
    "            self.residual_layers = None\n",
    "        \n",
    "        # 构建主网络\n",
    "        layers = []\n",
    "        prev_dim = input_dim\n",
    "        \n",
    "        for i, (hidden_dim, dropout_rate) in enumerate(zip(hidden_dims, dropout_rates)):\n",
    "            layers.append(nn.Linear(prev_dim, hidden_dim))\n",
    "            \n",
    "            if use_batch_norm:\n",
    "                layers.append(nn.BatchNorm1d(hidden_dim))\n",
    "            \n",
    "            layers.append(nn.LeakyReLU(0.1))  # 使用LeakyReLU\n",
    "            layers.append(nn.Dropout(dropout_rate))\n",
    "            prev_dim = hidden_dim\n",
    "        \n",
    "        # 输出层\n",
    "        layers.append(nn.Linear(prev_dim, 1))\n",
    "        \n",
    "        self.net = nn.Sequential(*layers)\n",
    "        self._initialize_weights()\n",
    "        self.criterion = nn.MSELoss(reduction='mean')\n",
    "\n",
    "    def _create_residual_layers(self, input_dim, hidden_dims):\n",
    "        ''' 创建残差连接层 '''\n",
    "        residual_layers = nn.ModuleList()\n",
    "        for i in range(len(hidden_dims) - 1):\n",
    "            if hidden_dims[i] == hidden_dims[i + 1]:\n",
    "                residual_layers.append(nn.Identity())  # 维度相同，使用恒等映射\n",
    "            else:\n",
    "                residual_layers.append(nn.Linear(hidden_dims[i], hidden_dims[i + 1]))\n",
    "        return residual_layers\n",
    "\n",
    "    def _initialize_weights(self):\n",
    "        ''' Kaiming初始化，适合ReLU族激活函数 '''\n",
    "        for m in self.modules():\n",
    "            if isinstance(m, nn.Linear):\n",
    "                nn.init.kaiming_normal_(m.weight, mode='fan_in', nonlinearity='leaky_relu')\n",
    "                nn.init.zeros_(m.bias)\n",
    "\n",
    "    def forward(self, x):\n",
    "        ''' 前向传播，支持残差连接 '''\n",
    "        if self.use_residual and self.residual_layers:\n",
    "            # 实现残差连接\n",
    "            identity = x\n",
    "            for i, layer in enumerate(self.net[:-1]):  # 排除输出层\n",
    "                x = layer(x)\n",
    "                if i % 4 == 3 and i//4 < len(self.residual_layers):  # 每4层一个残差块\n",
    "                    residual_idx = i // 4\n",
    "                    if identity.shape[1] == x.shape[1]:\n",
    "                        x = x + identity\n",
    "                    else:\n",
    "                        x = x + self.residual_layers[residual_idx](identity)\n",
    "                    identity = x\n",
    "            x = self.net[-1](x)  # 输出层\n",
    "        else:\n",
    "            x = self.net(x)\n",
    "        \n",
    "        return x.squeeze(1)\n",
    "\n",
    "    def cal_loss(self, pred, target):\n",
    "        ''' 计算损失，包含L2正则化 '''\n",
    "        mse_loss = self.criterion(pred, target)\n",
    "        l2_reg = self.get_l2_regularization()\n",
    "        return mse_loss + self.l2_lambda * l2_reg\n",
    "\n",
    "    def get_l2_regularization(self):\n",
    "        ''' 计算L2正则化项 '''\n",
    "        l2_reg = torch.tensor(0., device=next(self.parameters()).device)\n",
    "        for param in self.parameters():\n",
    "            if param.requires_grad:\n",
    "                l2_reg += torch.norm(param, 2)\n",
    "        return l2_reg"
   ],
   "outputs": [],
   "execution_count": 24
  },
  {
   "cell_type": "markdown",
   "metadata": {
    "id": "DvFWVjZ5Nvga"
   },
   "source": [
    "# **Train/Dev/Test**"
   ]
  },
  {
   "cell_type": "markdown",
   "metadata": {
    "id": "MAM8QecJOyqn"
   },
   "source": [
    "## **Training**"
   ]
  },
  {
   "cell_type": "code",
   "metadata": {
    "id": "lOqcmYzMO7jB",
    "ExecuteTime": {
     "end_time": "2025-09-09T09:09:52.136308Z",
     "start_time": "2025-09-09T09:09:52.131150Z"
    }
   },
   "source": [
    "def train(tr_set, dv_set, model, config, device):\n",
    "    ''' DNN training '''\n",
    "\n",
    "    n_epochs = config['n_epochs']  # Maximum number of epochs\n",
    "\n",
    "    # Setup optimizer\n",
    "    optimizer = getattr(torch.optim, config['optimizer'])(\n",
    "        model.parameters(), **config['optim_hparas'])\n",
    "\n",
    "    min_mse = 1000.\n",
    "    loss_record = {'train': [], 'dev': []}      # for recording training loss\n",
    "    early_stop_cnt = 0\n",
    "    epoch = 0\n",
    "    while epoch < n_epochs:\n",
    "        model.train()                           # set model to training mode\n",
    "        for x, y in tr_set:                     # iterate through the dataloader\n",
    "            optimizer.zero_grad()               # set gradient to zero\n",
    "            x, y = x.to(device), y.to(device)   # move data to device (cpu/cuda)\n",
    "            pred = model(x)                     # forward pass (compute output)\n",
    "            mse_loss = model.cal_loss(pred, y)  # compute loss\n",
    "            mse_loss.backward()                 # compute gradient (backpropagation)\n",
    "            optimizer.step()                    # update model with optimizer\n",
    "            loss_record['train'].append(mse_loss.detach().cpu().item())\n",
    "\n",
    "        # After each epoch, test your model on the validation (development) set.\n",
    "        dev_mse = dev(dv_set, model, device)\n",
    "        if dev_mse < min_mse:\n",
    "            # Save model if your model improved\n",
    "            min_mse = dev_mse\n",
    "            print('Saving model (epoch = {:4d}, loss = {:.4f})'\n",
    "                .format(epoch + 1, min_mse))\n",
    "            torch.save(model.state_dict(), config['save_path'])  # Save model to specified path\n",
    "            early_stop_cnt = 0\n",
    "        else:\n",
    "            early_stop_cnt += 1\n",
    "\n",
    "        epoch += 1\n",
    "        loss_record['dev'].append(dev_mse)\n",
    "        if early_stop_cnt > config['early_stop']:\n",
    "            # Stop training if your model stops improving for \"config['early_stop']\" epochs.\n",
    "            break\n",
    "\n",
    "    print('Finished training after {} epochs'.format(epoch))\n",
    "    return min_mse, loss_record"
   ],
   "outputs": [],
   "execution_count": 8
  },
  {
   "cell_type": "markdown",
   "metadata": {
    "id": "0hSd4Bn3O2PL"
   },
   "source": [
    "## **Validation**"
   ]
  },
  {
   "cell_type": "code",
   "metadata": {
    "id": "yrxrD3YsN3U2",
    "ExecuteTime": {
     "end_time": "2025-09-09T09:09:52.908421Z",
     "start_time": "2025-09-09T09:09:52.905302Z"
    }
   },
   "source": [
    "def dev(dv_set, model, device):\n",
    "    model.eval()                                # set model to evalutation mode\n",
    "    total_loss = 0\n",
    "    for x, y in dv_set:                         # iterate through the dataloader\n",
    "        x, y = x.to(device), y.to(device)       # move data to device (cpu/cuda)\n",
    "        with torch.no_grad():                   # disable gradient calculation\n",
    "            pred = model(x)                     # forward pass (compute output)\n",
    "            mse_loss = model.cal_loss(pred, y)  # compute loss\n",
    "        total_loss += mse_loss.detach().cpu().item() * len(x)  # accumulate loss\n",
    "    total_loss = total_loss / len(dv_set.dataset)              # compute averaged loss\n",
    "\n",
    "    return total_loss"
   ],
   "outputs": [],
   "execution_count": 9
  },
  {
   "cell_type": "markdown",
   "metadata": {
    "id": "g0pdrhQAO41L"
   },
   "source": [
    "## **Testing**"
   ]
  },
  {
   "cell_type": "code",
   "metadata": {
    "id": "aSBMRFlYN5tB",
    "ExecuteTime": {
     "end_time": "2025-09-09T09:09:53.951726Z",
     "start_time": "2025-09-09T09:09:53.948540Z"
    }
   },
   "source": [
    "def test(tt_set, model, device):\n",
    "    model.eval()                                # set model to evalutation mode\n",
    "    preds = []\n",
    "    for x in tt_set:                            # iterate through the dataloader\n",
    "        x = x.to(device)                        # move data to device (cpu/cuda)\n",
    "        with torch.no_grad():                   # disable gradient calculation\n",
    "            pred = model(x)                     # forward pass (compute output)\n",
    "            preds.append(pred.detach().cpu())   # collect prediction\n",
    "    preds = torch.cat(preds, dim=0).numpy()     # concatenate all predictions and convert to a numpy array\n",
    "    return preds"
   ],
   "outputs": [],
   "execution_count": 10
  },
  {
   "cell_type": "markdown",
   "metadata": {
    "id": "SvckkF5dvf0j"
   },
   "source": [
    "# **Setup Hyper-parameters**\n",
    "\n",
    "`config` contains hyper-parameters for training and the path to save your model."
   ]
  },
  {
   "cell_type": "code",
   "metadata": {
    "id": "NPXpdumwPjE7",
    "ExecuteTime": {
     "end_time": "2025-09-09T09:09:54.651919Z",
     "start_time": "2025-09-09T09:09:54.648156Z"
    }
   },
   "source": [
    "device = get_device()                 # get the current available device ('cpu' or 'cuda')\n",
    "os.makedirs('models', exist_ok=True)  # The trained model will be saved to ./models/\n",
    "target_only = False                   # TODO: Using 40 states & 2 tested_positive features\n",
    "\n",
    "# TODO: How to tune these hyper-parameters to improve your model's performance?\n",
    "config = {\n",
    "    'n_epochs': 5000,                # maximum number of epochs\n",
    "    'batch_size': 512,               # mini-batch size for dataloader\n",
    "    'optimizer': 'SGD',              # optimization algorithm (optimizer in torch.optim)\n",
    "    'optim_hparas': {                # hyper-parameters for the optimizer (depends on which optimizer you are using)\n",
    "        'lr': 0.0001,                 # learning rate of SGD\n",
    "        'momentum': 0.9              # momentum for SGD\n",
    "    },\n",
    "    'early_stop': 200,               # early stopping epochs (the number epochs since your model's last improvement)\n",
    "    'save_path': 'models/model.pth'  # your model will be saved here\n",
    "}"
   ],
   "outputs": [],
   "execution_count": 11
  },
  {
   "cell_type": "markdown",
   "metadata": {
    "id": "6j1eOV3TOH-j"
   },
   "source": [
    "# **Load data and model**"
   ]
  },
  {
   "cell_type": "code",
   "metadata": {
    "colab": {
     "base_uri": "https://localhost:8080/"
    },
    "id": "eNrYBMmePLKm",
    "outputId": "28903b80-7d7b-418b-9470-302ccd269895",
    "ExecuteTime": {
     "end_time": "2025-09-09T09:10:24.781394Z",
     "start_time": "2025-09-09T09:10:24.401156Z"
    }
   },
   "source": [
    "tr_set = prep_dataloader(tr_path, 'train', config['batch_size'], target_only=True)\n",
    "dv_set = prep_dataloader(tr_path, 'dev', config['batch_size'], target_only=True)\n",
    "tt_set = prep_dataloader(tt_path, 'test', config['batch_size'], target_only=True)"
   ],
   "outputs": [
    {
     "name": "stdout",
     "output_type": "stream",
     "text": [
      "Finished reading the train set of COVID19 Dataset (2430 samples found, each dim = 42)\n",
      "Finished reading the dev set of COVID19 Dataset (270 samples found, each dim = 42)\n",
      "Finished reading the test set of COVID19 Dataset (893 samples found, each dim = 42)\n"
     ]
    }
   ],
   "execution_count": 15
  },
  {
   "cell_type": "code",
   "metadata": {
    "id": "FHylSirLP9oh",
    "ExecuteTime": {
     "end_time": "2025-09-09T09:10:25.724975Z",
     "start_time": "2025-09-09T09:10:25.719429Z"
    }
   },
   "source": "model = AdvancedNeuralNet(input_dim=42, hidden_dims=[512, 256, 128, 64], dropout_rates=[0.4, 0.3, 0.2, 0.1], use_batch_norm=True, l2_lambda=0.001, use_residual=False).to(device)  # Construct model and move to device",
   "outputs": [],
   "execution_count": 16
  },
  {
   "cell_type": "markdown",
   "metadata": {
    "id": "sX2B_zgSOPTJ"
   },
   "source": [
    "# **Start Training!**"
   ]
  },
  {
   "cell_type": "code",
   "metadata": {
    "colab": {
     "base_uri": "https://localhost:8080/"
    },
    "id": "GrEbUxazQAAZ",
    "outputId": "83f58a12-014e-426c-dc03-8ec861f56200",
    "ExecuteTime": {
     "end_time": "2025-09-09T09:14:29.388250Z",
     "start_time": "2025-09-09T09:10:26.698078Z"
    }
   },
   "source": [
    "model_loss, model_loss_record = train(tr_set, dv_set, model, config, device)"
   ],
   "outputs": [
    {
     "name": "stdout",
     "output_type": "stream",
     "text": [
      "Saving model (epoch =    1, loss = 321.0810)\n",
      "Saving model (epoch =    2, loss = 306.9518)\n",
      "Saving model (epoch =    3, loss = 285.3684)\n",
      "Saving model (epoch =    4, loss = 259.1121)\n",
      "Saving model (epoch =    5, loss = 230.5637)\n",
      "Saving model (epoch =    6, loss = 201.3422)\n",
      "Saving model (epoch =    7, loss = 175.7838)\n",
      "Saving model (epoch =    8, loss = 152.5503)\n",
      "Saving model (epoch =    9, loss = 131.0018)\n",
      "Saving model (epoch =   10, loss = 112.6288)\n",
      "Saving model (epoch =   11, loss = 94.1367)\n",
      "Saving model (epoch =   12, loss = 76.4635)\n",
      "Saving model (epoch =   13, loss = 61.0375)\n",
      "Saving model (epoch =   14, loss = 47.3893)\n",
      "Saving model (epoch =   15, loss = 36.9230)\n",
      "Saving model (epoch =   16, loss = 31.1544)\n",
      "Saving model (epoch =   17, loss = 28.0410)\n",
      "Saving model (epoch =   18, loss = 26.4964)\n",
      "Saving model (epoch =   19, loss = 25.2556)\n",
      "Saving model (epoch =   20, loss = 24.7421)\n",
      "Saving model (epoch =   21, loss = 24.2454)\n",
      "Saving model (epoch =   22, loss = 23.5157)\n",
      "Saving model (epoch =   23, loss = 23.1662)\n",
      "Saving model (epoch =   24, loss = 22.8452)\n",
      "Saving model (epoch =   25, loss = 22.3805)\n",
      "Saving model (epoch =   26, loss = 22.1845)\n",
      "Saving model (epoch =   27, loss = 21.5600)\n",
      "Saving model (epoch =   28, loss = 21.1466)\n",
      "Saving model (epoch =   29, loss = 20.8898)\n",
      "Saving model (epoch =   30, loss = 20.2944)\n",
      "Saving model (epoch =   31, loss = 19.9390)\n",
      "Saving model (epoch =   32, loss = 19.8398)\n",
      "Saving model (epoch =   33, loss = 19.8305)\n",
      "Saving model (epoch =   34, loss = 19.6373)\n",
      "Saving model (epoch =   35, loss = 19.2121)\n",
      "Saving model (epoch =   36, loss = 18.8728)\n",
      "Saving model (epoch =   37, loss = 18.8234)\n",
      "Saving model (epoch =   38, loss = 18.4494)\n",
      "Saving model (epoch =   39, loss = 18.2987)\n",
      "Saving model (epoch =   40, loss = 18.1008)\n",
      "Saving model (epoch =   41, loss = 17.8637)\n",
      "Saving model (epoch =   42, loss = 17.5870)\n",
      "Saving model (epoch =   43, loss = 17.4625)\n",
      "Saving model (epoch =   46, loss = 17.3123)\n",
      "Saving model (epoch =   47, loss = 16.9319)\n",
      "Saving model (epoch =   48, loss = 16.7237)\n",
      "Saving model (epoch =   52, loss = 16.6703)\n",
      "Saving model (epoch =   53, loss = 16.4352)\n",
      "Saving model (epoch =   54, loss = 16.1257)\n",
      "Saving model (epoch =   55, loss = 16.1157)\n",
      "Saving model (epoch =   56, loss = 16.0036)\n",
      "Saving model (epoch =   58, loss = 15.9797)\n",
      "Saving model (epoch =   63, loss = 15.8761)\n",
      "Saving model (epoch =   64, loss = 15.7741)\n",
      "Saving model (epoch =   65, loss = 15.5568)\n",
      "Saving model (epoch =   66, loss = 15.4238)\n",
      "Saving model (epoch =   67, loss = 15.3635)\n",
      "Saving model (epoch =   68, loss = 15.2087)\n",
      "Saving model (epoch =   69, loss = 15.1488)\n",
      "Saving model (epoch =   70, loss = 15.1153)\n",
      "Saving model (epoch =   71, loss = 15.0007)\n",
      "Saving model (epoch =   72, loss = 14.8662)\n",
      "Saving model (epoch =   73, loss = 14.8004)\n",
      "Saving model (epoch =   82, loss = 14.7725)\n",
      "Saving model (epoch =   83, loss = 14.6723)\n",
      "Saving model (epoch =   90, loss = 14.6242)\n",
      "Saving model (epoch =   91, loss = 14.3623)\n",
      "Saving model (epoch =   92, loss = 14.3231)\n",
      "Saving model (epoch =   93, loss = 14.1946)\n",
      "Saving model (epoch =   95, loss = 14.1569)\n",
      "Saving model (epoch =  101, loss = 14.0155)\n",
      "Saving model (epoch =  102, loss = 13.9470)\n",
      "Saving model (epoch =  103, loss = 13.9407)\n",
      "Saving model (epoch =  104, loss = 13.8949)\n",
      "Saving model (epoch =  105, loss = 13.8928)\n",
      "Saving model (epoch =  110, loss = 13.8121)\n",
      "Saving model (epoch =  111, loss = 13.7152)\n",
      "Saving model (epoch =  112, loss = 13.6439)\n",
      "Saving model (epoch =  121, loss = 13.5686)\n",
      "Saving model (epoch =  123, loss = 13.5272)\n",
      "Saving model (epoch =  124, loss = 13.4807)\n",
      "Saving model (epoch =  130, loss = 13.4291)\n",
      "Saving model (epoch =  131, loss = 13.4246)\n",
      "Saving model (epoch =  132, loss = 13.4195)\n",
      "Saving model (epoch =  133, loss = 13.3914)\n",
      "Saving model (epoch =  134, loss = 13.3567)\n",
      "Saving model (epoch =  135, loss = 13.2460)\n",
      "Saving model (epoch =  136, loss = 13.1708)\n",
      "Saving model (epoch =  140, loss = 13.1551)\n",
      "Saving model (epoch =  142, loss = 13.1083)\n",
      "Saving model (epoch =  143, loss = 13.1066)\n",
      "Saving model (epoch =  147, loss = 13.0772)\n",
      "Saving model (epoch =  148, loss = 12.9760)\n",
      "Saving model (epoch =  149, loss = 12.8980)\n",
      "Saving model (epoch =  150, loss = 12.8967)\n",
      "Saving model (epoch =  151, loss = 12.8355)\n",
      "Saving model (epoch =  155, loss = 12.8156)\n",
      "Saving model (epoch =  159, loss = 12.7557)\n",
      "Saving model (epoch =  160, loss = 12.5921)\n",
      "Saving model (epoch =  170, loss = 12.5157)\n",
      "Saving model (epoch =  171, loss = 12.4702)\n",
      "Saving model (epoch =  172, loss = 12.4392)\n",
      "Saving model (epoch =  173, loss = 12.3703)\n",
      "Saving model (epoch =  176, loss = 12.3413)\n",
      "Saving model (epoch =  179, loss = 12.3101)\n",
      "Saving model (epoch =  181, loss = 12.2930)\n",
      "Saving model (epoch =  182, loss = 12.2271)\n",
      "Saving model (epoch =  184, loss = 12.1417)\n",
      "Saving model (epoch =  193, loss = 12.1354)\n",
      "Saving model (epoch =  199, loss = 12.1309)\n",
      "Saving model (epoch =  201, loss = 12.1223)\n",
      "Saving model (epoch =  205, loss = 12.0518)\n",
      "Saving model (epoch =  206, loss = 11.9805)\n",
      "Saving model (epoch =  211, loss = 11.8970)\n",
      "Saving model (epoch =  214, loss = 11.8601)\n",
      "Saving model (epoch =  219, loss = 11.7910)\n",
      "Saving model (epoch =  220, loss = 11.7780)\n",
      "Saving model (epoch =  221, loss = 11.6923)\n",
      "Saving model (epoch =  236, loss = 11.6584)\n",
      "Saving model (epoch =  237, loss = 11.6513)\n",
      "Saving model (epoch =  239, loss = 11.6093)\n",
      "Saving model (epoch =  240, loss = 11.5831)\n",
      "Saving model (epoch =  242, loss = 11.5641)\n",
      "Saving model (epoch =  243, loss = 11.5538)\n",
      "Saving model (epoch =  244, loss = 11.5097)\n",
      "Saving model (epoch =  245, loss = 11.5015)\n",
      "Saving model (epoch =  251, loss = 11.4753)\n",
      "Saving model (epoch =  255, loss = 11.4648)\n",
      "Saving model (epoch =  257, loss = 11.4507)\n",
      "Saving model (epoch =  258, loss = 11.4320)\n",
      "Saving model (epoch =  266, loss = 11.3964)\n",
      "Saving model (epoch =  267, loss = 11.3245)\n",
      "Saving model (epoch =  270, loss = 11.3023)\n",
      "Saving model (epoch =  271, loss = 11.2525)\n",
      "Saving model (epoch =  272, loss = 11.2519)\n",
      "Saving model (epoch =  273, loss = 11.2177)\n",
      "Saving model (epoch =  281, loss = 11.1940)\n",
      "Saving model (epoch =  282, loss = 11.1754)\n",
      "Saving model (epoch =  283, loss = 11.1470)\n",
      "Saving model (epoch =  298, loss = 11.1079)\n",
      "Saving model (epoch =  300, loss = 11.0351)\n",
      "Saving model (epoch =  301, loss = 10.9698)\n",
      "Saving model (epoch =  302, loss = 10.9335)\n",
      "Saving model (epoch =  304, loss = 10.9255)\n",
      "Saving model (epoch =  305, loss = 10.8842)\n",
      "Saving model (epoch =  320, loss = 10.8667)\n",
      "Saving model (epoch =  321, loss = 10.8537)\n",
      "Saving model (epoch =  322, loss = 10.7518)\n",
      "Saving model (epoch =  331, loss = 10.7499)\n",
      "Saving model (epoch =  337, loss = 10.7485)\n",
      "Saving model (epoch =  340, loss = 10.7171)\n",
      "Saving model (epoch =  348, loss = 10.6753)\n",
      "Saving model (epoch =  359, loss = 10.6152)\n",
      "Saving model (epoch =  360, loss = 10.5579)\n",
      "Saving model (epoch =  364, loss = 10.5359)\n",
      "Saving model (epoch =  365, loss = 10.4726)\n",
      "Saving model (epoch =  376, loss = 10.4621)\n",
      "Saving model (epoch =  377, loss = 10.4141)\n",
      "Saving model (epoch =  382, loss = 10.4122)\n",
      "Saving model (epoch =  384, loss = 10.4008)\n",
      "Saving model (epoch =  403, loss = 10.3815)\n",
      "Saving model (epoch =  404, loss = 10.3557)\n",
      "Saving model (epoch =  405, loss = 10.3337)\n",
      "Saving model (epoch =  408, loss = 10.3254)\n",
      "Saving model (epoch =  416, loss = 10.3005)\n",
      "Saving model (epoch =  423, loss = 10.2843)\n",
      "Saving model (epoch =  427, loss = 10.2458)\n",
      "Saving model (epoch =  428, loss = 10.1994)\n",
      "Saving model (epoch =  429, loss = 10.1635)\n",
      "Saving model (epoch =  440, loss = 10.1340)\n",
      "Saving model (epoch =  456, loss = 10.1303)\n",
      "Saving model (epoch =  458, loss = 10.0995)\n",
      "Saving model (epoch =  464, loss = 10.0743)\n",
      "Saving model (epoch =  468, loss = 10.0673)\n",
      "Saving model (epoch =  469, loss = 10.0369)\n",
      "Saving model (epoch =  470, loss = 10.0215)\n",
      "Saving model (epoch =  471, loss = 9.9898)\n",
      "Saving model (epoch =  483, loss = 9.9791)\n",
      "Saving model (epoch =  484, loss = 9.9644)\n",
      "Saving model (epoch =  485, loss = 9.9037)\n",
      "Saving model (epoch =  488, loss = 9.8896)\n",
      "Saving model (epoch =  489, loss = 9.8473)\n",
      "Saving model (epoch =  504, loss = 9.8059)\n",
      "Saving model (epoch =  505, loss = 9.7980)\n",
      "Saving model (epoch =  514, loss = 9.7827)\n",
      "Saving model (epoch =  526, loss = 9.7650)\n",
      "Saving model (epoch =  528, loss = 9.7456)\n",
      "Saving model (epoch =  536, loss = 9.7418)\n",
      "Saving model (epoch =  538, loss = 9.7380)\n",
      "Saving model (epoch =  539, loss = 9.7257)\n",
      "Saving model (epoch =  541, loss = 9.6986)\n",
      "Saving model (epoch =  549, loss = 9.6796)\n",
      "Saving model (epoch =  558, loss = 9.6713)\n",
      "Saving model (epoch =  559, loss = 9.6251)\n",
      "Saving model (epoch =  562, loss = 9.5898)\n",
      "Saving model (epoch =  566, loss = 9.5690)\n",
      "Saving model (epoch =  575, loss = 9.5285)\n",
      "Saving model (epoch =  589, loss = 9.4851)\n",
      "Saving model (epoch =  590, loss = 9.4843)\n",
      "Saving model (epoch =  591, loss = 9.4634)\n",
      "Saving model (epoch =  628, loss = 9.4448)\n",
      "Saving model (epoch =  631, loss = 9.4252)\n",
      "Saving model (epoch =  632, loss = 9.4216)\n",
      "Saving model (epoch =  641, loss = 9.3836)\n",
      "Saving model (epoch =  643, loss = 9.3763)\n",
      "Saving model (epoch =  644, loss = 9.3416)\n",
      "Saving model (epoch =  660, loss = 9.3273)\n",
      "Saving model (epoch =  661, loss = 9.3136)\n",
      "Saving model (epoch =  666, loss = 9.3107)\n",
      "Saving model (epoch =  674, loss = 9.2966)\n",
      "Saving model (epoch =  675, loss = 9.2812)\n",
      "Saving model (epoch =  676, loss = 9.2382)\n",
      "Saving model (epoch =  702, loss = 9.2274)\n",
      "Saving model (epoch =  703, loss = 9.2115)\n",
      "Saving model (epoch =  704, loss = 9.1589)\n",
      "Saving model (epoch =  716, loss = 9.1580)\n",
      "Saving model (epoch =  718, loss = 9.1392)\n",
      "Saving model (epoch =  736, loss = 9.1289)\n",
      "Saving model (epoch =  737, loss = 9.1246)\n",
      "Saving model (epoch =  745, loss = 9.1007)\n",
      "Saving model (epoch =  746, loss = 9.0656)\n",
      "Saving model (epoch =  756, loss = 9.0529)\n",
      "Saving model (epoch =  761, loss = 9.0481)\n",
      "Saving model (epoch =  762, loss = 9.0391)\n",
      "Saving model (epoch =  764, loss = 9.0159)\n",
      "Saving model (epoch =  765, loss = 9.0089)\n",
      "Saving model (epoch =  795, loss = 9.0027)\n",
      "Saving model (epoch =  799, loss = 8.9989)\n",
      "Saving model (epoch =  800, loss = 8.9887)\n",
      "Saving model (epoch =  802, loss = 8.9328)\n",
      "Saving model (epoch =  833, loss = 8.9309)\n",
      "Saving model (epoch =  834, loss = 8.9281)\n",
      "Saving model (epoch =  836, loss = 8.9061)\n",
      "Saving model (epoch =  846, loss = 8.8782)\n",
      "Saving model (epoch =  847, loss = 8.8617)\n",
      "Saving model (epoch =  866, loss = 8.8606)\n",
      "Saving model (epoch =  867, loss = 8.8570)\n",
      "Saving model (epoch =  870, loss = 8.8343)\n",
      "Saving model (epoch =  871, loss = 8.8206)\n",
      "Saving model (epoch =  877, loss = 8.8151)\n",
      "Saving model (epoch =  884, loss = 8.8089)\n",
      "Saving model (epoch =  898, loss = 8.8070)\n",
      "Saving model (epoch =  908, loss = 8.7880)\n",
      "Saving model (epoch =  909, loss = 8.7665)\n",
      "Saving model (epoch =  925, loss = 8.7648)\n",
      "Saving model (epoch =  926, loss = 8.7629)\n",
      "Saving model (epoch =  932, loss = 8.7018)\n",
      "Saving model (epoch =  933, loss = 8.6935)\n",
      "Saving model (epoch =  934, loss = 8.6860)\n",
      "Saving model (epoch =  962, loss = 8.6776)\n",
      "Saving model (epoch =  990, loss = 8.6763)\n",
      "Saving model (epoch =  991, loss = 8.6640)\n",
      "Saving model (epoch =  993, loss = 8.6516)\n",
      "Saving model (epoch = 1013, loss = 8.6476)\n",
      "Saving model (epoch = 1015, loss = 8.6253)\n",
      "Saving model (epoch = 1017, loss = 8.6044)\n",
      "Saving model (epoch = 1045, loss = 8.5925)\n",
      "Saving model (epoch = 1047, loss = 8.5908)\n",
      "Saving model (epoch = 1049, loss = 8.5878)\n",
      "Saving model (epoch = 1050, loss = 8.5875)\n",
      "Saving model (epoch = 1051, loss = 8.5845)\n",
      "Saving model (epoch = 1062, loss = 8.5779)\n",
      "Saving model (epoch = 1073, loss = 8.5777)\n",
      "Saving model (epoch = 1074, loss = 8.5585)\n",
      "Saving model (epoch = 1080, loss = 8.5464)\n",
      "Saving model (epoch = 1084, loss = 8.5329)\n",
      "Saving model (epoch = 1091, loss = 8.5209)\n",
      "Saving model (epoch = 1092, loss = 8.5030)\n",
      "Saving model (epoch = 1093, loss = 8.5017)\n",
      "Saving model (epoch = 1107, loss = 8.4913)\n",
      "Saving model (epoch = 1109, loss = 8.4839)\n",
      "Saving model (epoch = 1110, loss = 8.4718)\n",
      "Saving model (epoch = 1136, loss = 8.4683)\n",
      "Saving model (epoch = 1137, loss = 8.4656)\n",
      "Saving model (epoch = 1138, loss = 8.4374)\n",
      "Saving model (epoch = 1185, loss = 8.4357)\n",
      "Saving model (epoch = 1199, loss = 8.4166)\n",
      "Saving model (epoch = 1200, loss = 8.4058)\n",
      "Saving model (epoch = 1203, loss = 8.4032)\n",
      "Saving model (epoch = 1215, loss = 8.4024)\n",
      "Saving model (epoch = 1217, loss = 8.3740)\n",
      "Saving model (epoch = 1254, loss = 8.3602)\n",
      "Saving model (epoch = 1265, loss = 8.3540)\n",
      "Saving model (epoch = 1267, loss = 8.3442)\n",
      "Saving model (epoch = 1269, loss = 8.3315)\n",
      "Saving model (epoch = 1273, loss = 8.3243)\n",
      "Saving model (epoch = 1279, loss = 8.3198)\n",
      "Saving model (epoch = 1296, loss = 8.3129)\n",
      "Saving model (epoch = 1297, loss = 8.2914)\n",
      "Saving model (epoch = 1327, loss = 8.2907)\n",
      "Saving model (epoch = 1331, loss = 8.2838)\n",
      "Saving model (epoch = 1345, loss = 8.2605)\n",
      "Saving model (epoch = 1346, loss = 8.2488)\n",
      "Saving model (epoch = 1379, loss = 8.2163)\n",
      "Saving model (epoch = 1429, loss = 8.2069)\n",
      "Saving model (epoch = 1434, loss = 8.2040)\n",
      "Saving model (epoch = 1435, loss = 8.1684)\n",
      "Saving model (epoch = 1514, loss = 8.1637)\n",
      "Saving model (epoch = 1515, loss = 8.1368)\n",
      "Saving model (epoch = 1540, loss = 8.1148)\n",
      "Saving model (epoch = 1607, loss = 8.0998)\n",
      "Saving model (epoch = 1608, loss = 8.0896)\n",
      "Saving model (epoch = 1679, loss = 8.0881)\n",
      "Saving model (epoch = 1683, loss = 8.0870)\n",
      "Saving model (epoch = 1696, loss = 8.0782)\n",
      "Saving model (epoch = 1697, loss = 8.0778)\n",
      "Saving model (epoch = 1703, loss = 8.0652)\n",
      "Saving model (epoch = 1718, loss = 8.0392)\n",
      "Saving model (epoch = 1757, loss = 8.0342)\n",
      "Saving model (epoch = 1825, loss = 8.0287)\n",
      "Saving model (epoch = 1828, loss = 8.0234)\n",
      "Saving model (epoch = 1848, loss = 8.0057)\n",
      "Saving model (epoch = 1849, loss = 7.9878)\n",
      "Saving model (epoch = 1859, loss = 7.9878)\n",
      "Saving model (epoch = 1871, loss = 7.9799)\n",
      "Saving model (epoch = 1900, loss = 7.9702)\n",
      "Saving model (epoch = 1901, loss = 7.9677)\n",
      "Saving model (epoch = 1920, loss = 7.9611)\n",
      "Saving model (epoch = 1921, loss = 7.9588)\n",
      "Saving model (epoch = 1929, loss = 7.9548)\n",
      "Saving model (epoch = 1937, loss = 7.9513)\n",
      "Saving model (epoch = 1986, loss = 7.9408)\n",
      "Saving model (epoch = 1991, loss = 7.9388)\n",
      "Saving model (epoch = 2014, loss = 7.9302)\n",
      "Saving model (epoch = 2024, loss = 7.9288)\n",
      "Saving model (epoch = 2025, loss = 7.9163)\n",
      "Saving model (epoch = 2026, loss = 7.9093)\n",
      "Saving model (epoch = 2035, loss = 7.9085)\n",
      "Saving model (epoch = 2054, loss = 7.8986)\n",
      "Saving model (epoch = 2076, loss = 7.8960)\n",
      "Saving model (epoch = 2114, loss = 7.8763)\n",
      "Saving model (epoch = 2119, loss = 7.8753)\n",
      "Saving model (epoch = 2121, loss = 7.8676)\n",
      "Saving model (epoch = 2122, loss = 7.8659)\n",
      "Saving model (epoch = 2143, loss = 7.8471)\n",
      "Saving model (epoch = 2144, loss = 7.8381)\n",
      "Saving model (epoch = 2146, loss = 7.8256)\n",
      "Saving model (epoch = 2271, loss = 7.8212)\n",
      "Saving model (epoch = 2274, loss = 7.8185)\n",
      "Saving model (epoch = 2280, loss = 7.8130)\n",
      "Saving model (epoch = 2320, loss = 7.8038)\n",
      "Saving model (epoch = 2323, loss = 7.7988)\n",
      "Saving model (epoch = 2334, loss = 7.7948)\n",
      "Saving model (epoch = 2335, loss = 7.7880)\n",
      "Saving model (epoch = 2338, loss = 7.7816)\n",
      "Saving model (epoch = 2366, loss = 7.7813)\n",
      "Saving model (epoch = 2367, loss = 7.7767)\n",
      "Saving model (epoch = 2379, loss = 7.7668)\n",
      "Saving model (epoch = 2383, loss = 7.7591)\n",
      "Saving model (epoch = 2388, loss = 7.7571)\n",
      "Saving model (epoch = 2401, loss = 7.7531)\n",
      "Saving model (epoch = 2403, loss = 7.7520)\n",
      "Saving model (epoch = 2404, loss = 7.7504)\n",
      "Saving model (epoch = 2410, loss = 7.7465)\n",
      "Saving model (epoch = 2411, loss = 7.7373)\n",
      "Saving model (epoch = 2481, loss = 7.7278)\n",
      "Saving model (epoch = 2500, loss = 7.7193)\n",
      "Saving model (epoch = 2512, loss = 7.7186)\n",
      "Saving model (epoch = 2513, loss = 7.7065)\n",
      "Saving model (epoch = 2552, loss = 7.7032)\n",
      "Saving model (epoch = 2558, loss = 7.7009)\n",
      "Saving model (epoch = 2589, loss = 7.6995)\n",
      "Saving model (epoch = 2596, loss = 7.6987)\n",
      "Saving model (epoch = 2617, loss = 7.6874)\n",
      "Saving model (epoch = 2641, loss = 7.6830)\n",
      "Saving model (epoch = 2642, loss = 7.6765)\n",
      "Saving model (epoch = 2693, loss = 7.6659)\n",
      "Saving model (epoch = 2695, loss = 7.6512)\n",
      "Saving model (epoch = 2745, loss = 7.6412)\n",
      "Saving model (epoch = 2897, loss = 7.6375)\n",
      "Saving model (epoch = 2898, loss = 7.6268)\n",
      "Saving model (epoch = 2928, loss = 7.6242)\n",
      "Saving model (epoch = 3019, loss = 7.6190)\n",
      "Saving model (epoch = 3020, loss = 7.6133)\n",
      "Saving model (epoch = 3040, loss = 7.6110)\n",
      "Saving model (epoch = 3041, loss = 7.6035)\n",
      "Saving model (epoch = 3042, loss = 7.5871)\n",
      "Saving model (epoch = 3064, loss = 7.5797)\n",
      "Saving model (epoch = 3130, loss = 7.5778)\n",
      "Saving model (epoch = 3171, loss = 7.5720)\n",
      "Saving model (epoch = 3201, loss = 7.5634)\n",
      "Saving model (epoch = 3202, loss = 7.5590)\n",
      "Saving model (epoch = 3203, loss = 7.5570)\n",
      "Saving model (epoch = 3219, loss = 7.5509)\n",
      "Saving model (epoch = 3222, loss = 7.5451)\n",
      "Saving model (epoch = 3225, loss = 7.5441)\n",
      "Saving model (epoch = 3226, loss = 7.5421)\n",
      "Saving model (epoch = 3227, loss = 7.5381)\n",
      "Saving model (epoch = 3228, loss = 7.5372)\n",
      "Saving model (epoch = 3420, loss = 7.5366)\n",
      "Saving model (epoch = 3443, loss = 7.5227)\n",
      "Saving model (epoch = 3474, loss = 7.5191)\n",
      "Saving model (epoch = 3475, loss = 7.5072)\n",
      "Saving model (epoch = 3476, loss = 7.5020)\n",
      "Saving model (epoch = 3617, loss = 7.5016)\n",
      "Saving model (epoch = 3618, loss = 7.5010)\n",
      "Saving model (epoch = 3621, loss = 7.4991)\n",
      "Saving model (epoch = 3688, loss = 7.4873)\n",
      "Saving model (epoch = 3715, loss = 7.4852)\n",
      "Saving model (epoch = 3721, loss = 7.4784)\n",
      "Saving model (epoch = 3722, loss = 7.4697)\n",
      "Saving model (epoch = 3739, loss = 7.4669)\n",
      "Saving model (epoch = 3740, loss = 7.4575)\n",
      "Saving model (epoch = 3744, loss = 7.4527)\n",
      "Saving model (epoch = 3745, loss = 7.4467)\n",
      "Finished training after 3946 epochs\n"
     ]
    }
   ],
   "execution_count": 17
  },
  {
   "cell_type": "code",
   "metadata": {
    "colab": {
     "base_uri": "https://localhost:8080/",
     "height": 410
    },
    "id": "hsNO9nnXQBvP",
    "outputId": "d0c20e01-d082-4595-feb4-2fa85813d169",
    "ExecuteTime": {
     "end_time": "2025-09-09T08:20:33.859357Z",
     "start_time": "2025-09-09T08:20:33.744187Z"
    }
   },
   "source": [
    "plot_learning_curve(model_loss_record, title='deep model')"
   ],
   "outputs": [
    {
     "data": {
      "text/plain": [
       "<Figure size 600x400 with 1 Axes>"
      ],
      "image/png": "[encoded data removed]"
     },
     "metadata": {},
     "output_type": "display_data"
    }
   ],
   "execution_count": 89
  },
  {
   "cell_type": "code",
   "metadata": {
    "colab": {
     "base_uri": "https://localhost:8080/",
     "height": 487
    },
    "id": "3iZTVn5WQFpX",
    "outputId": "9629dfdc-cbaf-4a91-c4d4-682d29d4057b",
    "ExecuteTime": {
     "end_time": "2025-09-09T08:03:08.115935Z",
     "start_time": "2025-09-09T08:03:08.005861Z"
    }
   },
   "source": [
    "del model\n",
    "model = AdvancedNeuralNet(tr_set.dataset.dim).to(device)\n",
    "ckpt = torch.load(config['save_path'], map_location='cpu')  # Load your best model\n",
    "model.load_state_dict(ckpt)\n",
    "plot_pred(dv_set, model, device)  # Show prediction on the validation set"
   ],
   "outputs": [
    {
     "name": "stderr",
     "output_type": "stream",
     "text": [
      "C:\\Users\\12695\\AppData\\Local\\Temp\\ipykernel_15052\\503339345.py:3: FutureWarning: You are using `torch.load` with `weights_only=False` (the current default value), which uses the default pickle module implicitly. It is possible to construct malicious pickle data which will execute arbitrary code during unpickling (See https://github.com/pytorch/pytorch/blob/main/SECURITY.md#untrusted-models for more details). In a future release, the default value for `weights_only` will be flipped to `True`. This limits the functions that could be executed during unpickling. Arbitrary objects will no longer be allowed to be loaded via this mode unless they are explicitly allowlisted by the user via `torch.serialization.add_safe_globals`. We recommend you start setting `weights_only=True` for any use case where you don't have full control of the loaded file. Please open an issue on GitHub for any issues related to this experimental feature.\n",
      "  ckpt = torch.load(config['save_path'], map_location='cpu')  # Load your best model\n"
     ]
    },
    {
     "data": {
      "text/plain": [
       "<Figure size 500x500 with 1 Axes>"
      ],
      "image/png": "[encoded data removed]"
     },
     "metadata": {},
     "output_type": "display_data"
    }
   ],
   "execution_count": 56
  },
  {
   "cell_type": "markdown",
   "metadata": {
    "id": "aQikz3IPiyPf"
   },
   "source": [
    "# **Testing**\n",
    "The predictions of your model on testing set will be stored at `pred.csv`."
   ]
  },
  {
   "cell_type": "code",
   "source": [],
   "metadata": {
    "id": "UgDEDtQEhaGi",
    "ExecuteTime": {
     "end_time": "2025-09-09T08:03:08.118947Z",
     "start_time": "2025-09-09T08:03:08.116946Z"
    }
   },
   "outputs": [],
   "execution_count": 56
  },
  {
   "cell_type": "code",
   "metadata": {
    "colab": {
     "base_uri": "https://localhost:8080/"
    },
    "id": "O8cTuQjQQOon",
    "outputId": "7c3d5f5e-4b04-42b6-d3ff-464f4eb55978",
    "ExecuteTime": {
     "end_time": "2025-09-09T08:03:08.129966Z",
     "start_time": "2025-09-09T08:03:08.119453Z"
    }
   },
   "source": [
    "def save_pred(preds, file):\n",
    "    ''' Save predictions to specified file '''\n",
    "    print('Saving results to {}'.format(file))\n",
    "    with open(file, 'w') as fp:\n",
    "        writer = csv.writer(fp)\n",
    "        writer.writerow(['id', 'tested_positive'])\n",
    "        for i, p in enumerate(preds):\n",
    "            writer.writerow([i, p])\n",
    "\n",
    "preds = test(tt_set, model, device)  # predict COVID-19 cases with your model\n",
    "save_pred(preds, 'pred.csv')         # save prediction file to pred.csv"
   ],
   "outputs": [
    {
     "name": "stdout",
     "output_type": "stream",
     "text": [
      "Saving results to pred.csv\n"
     ]
    }
   ],
   "execution_count": 57
  },
  {
   "cell_type": "markdown",
   "metadata": {
    "id": "nfrVxqJanGpE"
   },
   "source": [
    "# **Hints**\n",
    "\n",
    "## **Simple Baseline**\n",
    "* Run sample code\n",
    "\n",
    "## **Medium Baseline**\n",
    "* Feature selection: 40 states + 2 `tested_positive` (`TODO` in dataset)\n",
    "\n",
    "## **Strong Baseline**\n",
    "* Feature selection (what other features are useful?)\n",
    "* DNN architecture (layers? dimension? activation function?)\n",
    "* Training (mini-batch? optimizer? learning rate?)\n",
    "* L2 regularization\n",
    "* There are some mistakes in the sample code, can you find them?"
   ]
  },
  {
   "cell_type": "markdown",
   "metadata": {
    "id": "9tmCwXgpot3t"
   },
   "source": [
    "# **Reference**\n",
    "This code is completely written by Heng-Jui Chang @ NTUEE.  \n",
    "Copying or reusing this code is required to specify the original author.\n",
    "\n",
    "E.g.  \n",
    "Source: Heng-Jui Chang @ NTUEE (https://github.com/ga642381/ML2021-Spring/blob/main/HW01/HW01.ipynb)\n"
   ]
  },
  {
   "metadata": {
    "ExecuteTime": {
     "end_time": "2025-09-09T08:03:08.132700Z",
     "start_time": "2025-09-09T08:03:08.130980Z"
    }
   },
   "cell_type": "code",
   "source": "",
   "outputs": [],
   "execution_count": 57
  }
 ]
}
