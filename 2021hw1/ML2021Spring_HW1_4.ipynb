{
 "nbformat": 4,
 "nbformat_minor": 0,
 "metadata": {
  "colab": {
   "name": "ML2021Spring - HW1.ipynb",
   "provenance": []
  },
  "kernelspec": {
   "name": "python3",
   "display_name": "Python 3 (ipykernel)",
   "language": "python"
  },
  "accelerator": "GPU"
 },
 "cells": [
  {
   "cell_type": "markdown",
   "metadata": {
    "id": "mz0_QVkxCrX3"
   },
   "source": [
    "# **Homework 1: COVID-19 Cases Prediction (Regression)**"
   ]
  },
  {
   "cell_type": "markdown",
   "metadata": {
    "id": "ZeZnPAiwDRWG"
   },
   "source": [
    "Author: Heng-Jui Chang\n",
    "\n",
    "Slides: https://github.com/ga642381/ML2021-Spring/blob/main/HW01/HW01.pdf  \n",
    "Videos (Mandarin): https://cool.ntu.edu.tw/courses/4793/modules/items/172854  \n",
    "https://cool.ntu.edu.tw/courses/4793/modules/items/172853  \n",
    "Video (English): https://cool.ntu.edu.tw/courses/4793/modules/items/176529\n",
    "\n",
    "\n",
    "Objectives:\n",
    "* Solve a regression problem with deep neural networks (DNN).\n",
    "* Understand basic DNN training tips.\n",
    "* Get familiar with PyTorch.\n",
    "\n",
    "If any questions, please contact the TAs via TA hours, NTU COOL, or email.\n"
   ]
  },
  {
   "cell_type": "markdown",
   "metadata": {
    "id": "Jx3x1nDkG-Uy"
   },
   "source": [
    "# **Download Data**\n",
    "\n",
    "\n",
    "If the Google drive links are dead, you can download data from [kaggle](https://www.kaggle.com/c/ml2021spring-hw1/data), and upload data manually to the workspace."
   ]
  },
  {
   "metadata": {
    "ExecuteTime": {
     "end_time": "2025-09-09T10:46:32.687649Z",
     "start_time": "2025-09-09T10:46:32.684422Z"
    }
   },
   "cell_type": "code",
   "source": [
    "tr_path = 'covid.train.csv'  # path to training data\n",
    "tt_path = 'covid.test.csv'   # path to testing dat"
   ],
   "outputs": [],
   "execution_count": 31
  },
  {
   "cell_type": "code",
   "metadata": {
    "colab": {
     "base_uri": "https://localhost:8080/"
    },
    "id": "tMj55YDKG6ch",
    "outputId": "82b6f68b-9693-4c49-a001-b49615a6efff",
    "ExecuteTime": {
     "end_time": "2025-09-09T10:46:32.690754Z",
     "start_time": "2025-09-09T10:46:32.688658Z"
    }
   },
   "source": [
    "# !gdown --id '19CCyCgJrUxtvgZF53vnctJiOJ23T5mqF' --output covid.train.csv\n",
    "# !gdown --id '1CE240jLm2npU-tdz81-oVKEF3T2yfT1O' --output covid.test.csv"
   ],
   "outputs": [],
   "execution_count": 32
  },
  {
   "cell_type": "markdown",
   "metadata": {
    "id": "wS_4-77xHk44"
   },
   "source": [
    "# **Import Some Packages**"
   ]
  },
  {
   "cell_type": "code",
   "metadata": {
    "id": "k-onQd4JNA5H",
    "ExecuteTime": {
     "end_time": "2025-09-09T10:46:32.696689Z",
     "start_time": "2025-09-09T10:46:32.691762Z"
    }
   },
   "source": [
    "# PyTorch\n",
    "import torch\n",
    "import torch.nn as nn\n",
    "from torch.utils.data import Dataset, DataLoader\n",
    "\n",
    "# For data preprocess\n",
    "import numpy as np\n",
    "import csv\n",
    "import os\n",
    "\n",
    "# For plotting\n",
    "import matplotlib.pyplot as plt\n",
    "from matplotlib.pyplot import figure\n",
    "\n",
    "myseed = 42069  # set a random seed for reproducibility\n",
    "torch.backends.cudnn.deterministic = True\n",
    "torch.backends.cudnn.benchmark = False\n",
    "np.random.seed(myseed)\n",
    "torch.manual_seed(myseed)\n",
    "if torch.cuda.is_available():\n",
    "    torch.cuda.manual_seed_all(myseed)"
   ],
   "outputs": [],
   "execution_count": 33
  },
  {
   "cell_type": "markdown",
   "metadata": {
    "id": "BtE3b6JEH7rw"
   },
   "source": [
    "# **Some Utilities**\n",
    "\n",
    "You do not need to modify this part."
   ]
  },
  {
   "cell_type": "code",
   "metadata": {
    "id": "FWMT3uf1NGQp",
    "ExecuteTime": {
     "end_time": "2025-09-09T10:46:32.703747Z",
     "start_time": "2025-09-09T10:46:32.696689Z"
    }
   },
   "source": [
    "def get_device():\n",
    "    ''' Get device (if GPU is available, use GPU) '''\n",
    "    return 'cuda' if torch.cuda.is_available() else 'cpu'\n",
    "\n",
    "def plot_learning_curve(loss_record, title=''):\n",
    "    ''' Plot learning curve of your DNN (train & dev loss) '''\n",
    "    total_steps = len(loss_record['train'])\n",
    "    x_1 = range(total_steps)\n",
    "    x_2 = x_1[::len(loss_record['train']) // len(loss_record['dev'])]\n",
    "    figure(figsize=(6, 4))\n",
    "    plt.plot(x_1, loss_record['train'], c='tab:red', label='train')\n",
    "    plt.plot(x_2, loss_record['dev'], c='tab:cyan', label='dev')\n",
    "    plt.ylim(0.0, 5.)\n",
    "    plt.xlabel('Training steps')\n",
    "    plt.ylabel('MSE loss')\n",
    "    plt.title('Learning curve of {}'.format(title))\n",
    "    plt.legend()\n",
    "    plt.show()\n",
    "\n",
    "\n",
    "def plot_pred(dv_set, model, device, lim=35., preds=None, targets=None):\n",
    "    ''' Plot prediction of your DNN '''\n",
    "    if preds is None or targets is None:\n",
    "        model.eval()\n",
    "        preds, targets = [], []\n",
    "        for x, y in dv_set:\n",
    "            x, y = x.to(device), y.to(device)\n",
    "            with torch.no_grad():\n",
    "                pred = model(x)\n",
    "                preds.append(pred.detach().cpu())\n",
    "                targets.append(y.detach().cpu())\n",
    "        preds = torch.cat(preds, dim=0).numpy()\n",
    "        targets = torch.cat(targets, dim=0).numpy()\n",
    "\n",
    "    figure(figsize=(5, 5))\n",
    "    plt.scatter(targets, preds, c='r', alpha=0.5)\n",
    "    plt.plot([-0.2, lim], [-0.2, lim], c='b')\n",
    "    plt.xlim(-0.2, lim)\n",
    "    plt.ylim(-0.2, lim)\n",
    "    plt.xlabel('ground truth value')\n",
    "    plt.ylabel('predicted value')\n",
    "    plt.title('Ground Truth v.s. Prediction')\n",
    "    plt.show()"
   ],
   "outputs": [],
   "execution_count": 34
  },
  {
   "cell_type": "markdown",
   "metadata": {
    "id": "39U_XFX6KOoj"
   },
   "source": [
    "# **Preprocess**\n",
    "\n",
    "We have three kinds of datasets:\n",
    "* `train`: for training\n",
    "* `dev`: for validation\n",
    "* `test`: for testing (w/o target value)"
   ]
  },
  {
   "cell_type": "markdown",
   "metadata": {
    "id": "TQ-MdwpLL7Dt"
   },
   "source": [
    "## **Dataset**\n",
    "\n",
    "The `COVID19Dataset` below does:\n",
    "* read `.csv` files\n",
    "* extract features\n",
    "* split `covid.train.csv` into train/dev sets\n",
    "* normalize features\n",
    "\n",
    "Finishing `TODO` below might make you pass medium baseline."
   ]
  },
  {
   "cell_type": "code",
   "metadata": {
    "id": "0zlpIp9ANJRU",
    "ExecuteTime": {
     "end_time": "2025-09-09T10:46:32.711168Z",
     "start_time": "2025-09-09T10:46:32.704780Z"
    }
   },
   "source": [
    "class COVID19Dataset(Dataset):\n",
    "    ''' Dataset for loading and preprocessing the COVID19 dataset '''\n",
    "    def __init__(self,\n",
    "                 path,\n",
    "                 mode='train',\n",
    "                 target_only=False):\n",
    "        self.mode = mode\n",
    "\n",
    "        # Read data into numpy arrays\n",
    "        with open(path, 'r') as fp:\n",
    "            data = list(csv.reader(fp))\n",
    "            data = np.array(data[1:])[:, 1:].astype(float)\n",
    "\n",
    "        if not target_only:\n",
    "            feats = list(range(93))\n",
    "        else:\n",
    "            # TODO: Using 40 states & 2 tested_positive features (indices = 57 & 75)\n",
    "            state_feats = list(range(40))\n",
    "            tested_positive_feats = [56, 74]\n",
    "            feats = state_feats + tested_positive_feats\n",
    "            \n",
    "        if mode == 'test':\n",
    "            # Testing data\n",
    "            # data: 893 x 93 (40 states + day 1 (18) + day 2 (18) + day 3 (17))\n",
    "            data = data[:, feats]\n",
    "            self.data = torch.FloatTensor(data)\n",
    "        else:\n",
    "            # Training data (train/dev sets)\n",
    "            # data: 2700 x 94 (40 states + day 1 (18) + day 2 (18) + day 3 (18))\n",
    "            target = data[:, -1]\n",
    "            data = data[:, feats]\n",
    "\n",
    "            # Splitting training data into train & dev sets\n",
    "            if mode == 'train':\n",
    "                indices = [i for i in range(len(data)) if i % 10 != 0]\n",
    "            elif mode == 'dev':\n",
    "                indices = [i for i in range(len(data)) if i % 10 == 0]\n",
    "\n",
    "            # Convert data into PyTorch tensors\n",
    "            self.data = torch.FloatTensor(data[indices])\n",
    "            self.target = torch.FloatTensor(target[indices])\n",
    "\n",
    "        # Normalize features (you may remove this part to see what will happen)\n",
    "        self.data[:, 40:] = \\\n",
    "            (self.data[:, 40:] - self.data[:, 40:].mean(dim=0, keepdim=True)) \\\n",
    "            / self.data[:, 40:].std(dim=0, keepdim=True)\n",
    "\n",
    "        self.dim = self.data.shape[1]\n",
    "\n",
    "        print('Finished reading the {} set of COVID19 Dataset ({} samples found, each dim = {})'\n",
    "              .format(mode, len(self.data), self.dim))\n",
    "\n",
    "    def __getitem__(self, index):\n",
    "        # Returns one sample at a time\n",
    "        if self.mode in ['train', 'dev']:\n",
    "            # For training\n",
    "            return self.data[index], self.target[index]\n",
    "        else:\n",
    "            # For testing (no target)\n",
    "            return self.data[index]\n",
    "\n",
    "    def __len__(self):\n",
    "        # Returns the size of the dataset\n",
    "        return len(self.data)"
   ],
   "outputs": [],
   "execution_count": 35
  },
  {
   "cell_type": "markdown",
   "metadata": {
    "id": "AlhTlkE7MDo3"
   },
   "source": [
    "## **DataLoader**\n",
    "\n",
    "A `DataLoader` loads data from a given `Dataset` into batches.\n"
   ]
  },
  {
   "cell_type": "code",
   "metadata": {
    "id": "hlhLk5t6MBX3",
    "ExecuteTime": {
     "end_time": "2025-09-09T10:46:32.715886Z",
     "start_time": "2025-09-09T10:46:32.712176Z"
    }
   },
   "source": [
    "def prep_dataloader(path, mode, batch_size, n_jobs=0, target_only=False):\n",
    "    ''' Generates a dataset, then is put into a dataloader. '''\n",
    "    dataset = COVID19Dataset(path, mode=mode, target_only=target_only)  # Construct dataset\n",
    "    dataloader = DataLoader(\n",
    "        dataset, batch_size,\n",
    "        shuffle=(mode == 'train'), drop_last=False,\n",
    "        num_workers=n_jobs, pin_memory=True)                            # Construct dataloader\n",
    "    return dataloader"
   ],
   "outputs": [],
   "execution_count": 36
  },
  {
   "cell_type": "markdown",
   "metadata": {
    "id": "SGuycwR0MeQB"
   },
   "source": [
    "# **Deep Neural Network**\n",
    "\n",
    "`NeuralNet` is an `nn.Module` designed for regression.\n",
    "The DNN consists of 2 fully-connected layers with ReLU activation.\n",
    "This module also included a function `cal_loss` for calculating loss.\n"
   ]
  },
  {
   "cell_type": "code",
   "metadata": {
    "id": "49-uXYovOAI0",
    "colab": {
     "base_uri": "https://localhost:8080/",
     "height": 112
    },
    "outputId": "14d8f4c3-c335-42b5-8f27-55d0a69ddcb6",
    "ExecuteTime": {
     "end_time": "2025-09-09T10:46:32.721622Z",
     "start_time": "2025-09-09T10:46:32.716979Z"
    }
   },
   "source": [
    "class NeuralNet(nn.Module):\n",
    "    ''' A simple fully-connected deep neural network '''\n",
    "    def __init__(self, input_dim,hiden_dim=64,num_hidden_layers=3,output_dim=1,dropout_rate=0.1):\n",
    "        super(NeuralNet, self).__init__()\n",
    "        layers = []\n",
    "\n",
    "        # Define your neural network here\n",
    "        # TODO: How to modify this model to achieve better performance?\n",
    "        #输入层\n",
    "        layers.append(nn.Linear(input_dim, hiden_dim))\n",
    "        layers.append(nn.ReLU())\n",
    "        layers.append(nn.Dropout(dropout_rate))\n",
    "        \n",
    "        for i in range(num_hidden_layers):\n",
    "            layers.append(nn.Linear(hiden_dim, hiden_dim))\n",
    "            layers.append(nn.ReLU())\n",
    "            layers.append(nn.Dropout(dropout_rate))\n",
    "        \n",
    "        #输出层\n",
    "        layers.append(nn.Linear(hiden_dim, output_dim))\n",
    "        \n",
    "        \n",
    "        self.net = nn.Sequential(*layers)\n",
    "\n",
    "        # Mean squared error loss\n",
    "        self.criterion = nn.MSELoss(reduction='mean')\n",
    "         # 初始化权重\n",
    "    #     self._initialize_weights()\n",
    "    # \n",
    "    # def _initialize_weights(self):\n",
    "    #     for m in self.modules():\n",
    "    #         if isinstance(m, nn.Linear):\n",
    "    #             nn.init.kaiming_normal_(m.weight, mode='fan_in', nonlinearity='relu')\n",
    "    #             nn.init.zeros_(m.bias)\n",
    "\n",
    "    def forward(self, x):\n",
    "        ''' Given input of size (batch_size x input_dim), compute output of the network '''\n",
    "        return self.net(x).squeeze(1)\n",
    "\n",
    "    def cal_loss(self, pred, target,l2_lambda=0.001):\n",
    "        ''' Calculate loss '''\n",
    "        mse_loss = self.criterion(pred, target)\n",
    "        # TODO: you may implement L1/L2 regularization here\n",
    "        l2_reg = torch.tensor(0.,device=pred.device)\n",
    "        for param in self.parameters():\n",
    "            l2_reg += torch.norm(param,2)\n",
    "        return mse_loss+l2_lambda*l2_reg"
   ],
   "outputs": [],
   "execution_count": 37
  },
  {
   "cell_type": "markdown",
   "metadata": {
    "id": "DvFWVjZ5Nvga"
   },
   "source": [
    "# **Train/Dev/Test**"
   ]
  },
  {
   "cell_type": "markdown",
   "metadata": {
    "id": "MAM8QecJOyqn"
   },
   "source": [
    "## **Training**"
   ]
  },
  {
   "cell_type": "code",
   "metadata": {
    "id": "lOqcmYzMO7jB",
    "ExecuteTime": {
     "end_time": "2025-09-09T10:46:32.727403Z",
     "start_time": "2025-09-09T10:46:32.721622Z"
    }
   },
   "source": [
    "def train(tr_set, dv_set, model, config, device):\n",
    "    ''' DNN training '''\n",
    "\n",
    "    n_epochs = config['n_epochs']  # Maximum number of epochs\n",
    "\n",
    "    # Setup optimizer\n",
    "    optimizer = getattr(torch.optim, config['optimizer'])(\n",
    "        model.parameters(), **config['optim_hparas'])\n",
    "\n",
    "    min_mse = 1000.\n",
    "    loss_record = {'train': [], 'dev': []}      # for recording training loss\n",
    "    early_stop_cnt = 0\n",
    "    epoch = 0\n",
    "    while epoch < n_epochs:\n",
    "        model.train()                           # set model to training mode\n",
    "        for x, y in tr_set:                     # iterate through the dataloader\n",
    "            optimizer.zero_grad()               # set gradient to zero\n",
    "            x, y = x.to(device), y.to(device)   # move data to device (cpu/cuda)\n",
    "            pred = model(x)                     # forward pass (compute output)\n",
    "            mse_loss = model.cal_loss(pred, y)  # compute loss\n",
    "            mse_loss.backward()                 # compute gradient (backpropagation)\n",
    "            optimizer.step()                    # update model with optimizer\n",
    "            loss_record['train'].append(mse_loss.detach().cpu().item())\n",
    "\n",
    "        # After each epoch, test your model on the validation (development) set.\n",
    "        dev_mse = dev(dv_set, model, device)\n",
    "        if dev_mse < min_mse:\n",
    "            # Save model if your model improved\n",
    "            min_mse = dev_mse\n",
    "            print('Saving model (epoch = {:4d}, loss = {:.4f})'\n",
    "                .format(epoch + 1, min_mse))\n",
    "            torch.save(model.state_dict(), config['save_path'])  # Save model to specified path\n",
    "            early_stop_cnt = 0\n",
    "        else:\n",
    "            early_stop_cnt += 1\n",
    "\n",
    "        epoch += 1\n",
    "        loss_record['dev'].append(dev_mse)\n",
    "        if early_stop_cnt > config['early_stop']:\n",
    "            # Stop training if your model stops improving for \"config['early_stop']\" epochs.\n",
    "            break\n",
    "\n",
    "    print('Finished training after {} epochs'.format(epoch))\n",
    "    return min_mse, loss_record"
   ],
   "outputs": [],
   "execution_count": 38
  },
  {
   "cell_type": "markdown",
   "metadata": {
    "id": "0hSd4Bn3O2PL"
   },
   "source": [
    "## **Validation**"
   ]
  },
  {
   "cell_type": "code",
   "metadata": {
    "id": "yrxrD3YsN3U2",
    "ExecuteTime": {
     "end_time": "2025-09-09T10:46:32.732137Z",
     "start_time": "2025-09-09T10:46:32.728647Z"
    }
   },
   "source": [
    "def dev(dv_set, model, device):\n",
    "    model.eval()                                # set model to evalutation mode\n",
    "    total_loss = 0\n",
    "    for x, y in dv_set:                         # iterate through the dataloader\n",
    "        x, y = x.to(device), y.to(device)       # move data to device (cpu/cuda)\n",
    "        with torch.no_grad():                   # disable gradient calculation\n",
    "            pred = model(x)                     # forward pass (compute output)\n",
    "            mse_loss = model.cal_loss(pred, y)  # compute loss\n",
    "        total_loss += mse_loss.detach().cpu().item() * len(x)  # accumulate loss\n",
    "    total_loss = total_loss / len(dv_set.dataset)              # compute averaged loss\n",
    "\n",
    "    return total_loss"
   ],
   "outputs": [],
   "execution_count": 39
  },
  {
   "cell_type": "markdown",
   "metadata": {
    "id": "g0pdrhQAO41L"
   },
   "source": [
    "## **Testing**"
   ]
  },
  {
   "cell_type": "code",
   "metadata": {
    "id": "aSBMRFlYN5tB",
    "ExecuteTime": {
     "end_time": "2025-09-09T10:46:32.736348Z",
     "start_time": "2025-09-09T10:46:32.733146Z"
    }
   },
   "source": [
    "def test(tt_set, model, device):\n",
    "    model.eval()                                # set model to evalutation mode\n",
    "    preds = []\n",
    "    for x in tt_set:                            # iterate through the dataloader\n",
    "        x = x.to(device)                        # move data to device (cpu/cuda)\n",
    "        with torch.no_grad():                   # disable gradient calculation\n",
    "            pred = model(x)                     # forward pass (compute output)\n",
    "            preds.append(pred.detach().cpu())   # collect prediction\n",
    "    preds = torch.cat(preds, dim=0).numpy()     # concatenate all predictions and convert to a numpy array\n",
    "    return preds"
   ],
   "outputs": [],
   "execution_count": 40
  },
  {
   "cell_type": "markdown",
   "metadata": {
    "id": "SvckkF5dvf0j"
   },
   "source": [
    "# **Setup Hyper-parameters**\n",
    "\n",
    "`config` contains hyper-parameters for training and the path to save your model."
   ]
  },
  {
   "cell_type": "code",
   "metadata": {
    "id": "NPXpdumwPjE7",
    "ExecuteTime": {
     "end_time": "2025-09-09T10:46:32.741047Z",
     "start_time": "2025-09-09T10:46:32.736348Z"
    }
   },
   "source": [
    "device = get_device()                 # get the current available device ('cpu' or 'cuda')\n",
    "os.makedirs('models', exist_ok=True)  # The trained model will be saved to ./models/\n",
    "target_only = False                   # TODO: Using 40 states & 2 tested_positive features\n",
    "\n",
    "# TODO: How to tune these hyper-parameters to improve your model's performance?\n",
    "config = {\n",
    "    'n_epochs': 5000,                # maximum number of epochs\n",
    "    'batch_size': 512,               # mini-batch size for dataloader\n",
    "    'optimizer': 'SGD',              # optimization algorithm (optimizer in torch.optim)\n",
    "    'optim_hparas': {                # hyper-parameters for the optimizer (depends on which optimizer you are using)\n",
    "        'lr': 0.0001,                 # learning rate of SGD\n",
    "        'momentum': 0.9              # momentum for SGD\n",
    "    },\n",
    "    'early_stop': 500,               # early stopping epochs (the number epochs since your model's last improvement)\n",
    "    'save_path': 'models/model.pth'  # your model will be saved here\n",
    "}"
   ],
   "outputs": [],
   "execution_count": 41
  },
  {
   "cell_type": "markdown",
   "metadata": {
    "id": "6j1eOV3TOH-j"
   },
   "source": [
    "# **Load data and model**"
   ]
  },
  {
   "cell_type": "code",
   "metadata": {
    "colab": {
     "base_uri": "https://localhost:8080/"
    },
    "id": "eNrYBMmePLKm",
    "outputId": "28903b80-7d7b-418b-9470-302ccd269895",
    "ExecuteTime": {
     "end_time": "2025-09-09T10:50:46.672689Z",
     "start_time": "2025-09-09T10:50:46.358889Z"
    }
   },
   "source": [
    "tr_set = prep_dataloader(tr_path, 'train', config['batch_size'], target_only=False)\n",
    "dv_set = prep_dataloader(tr_path, 'dev', config['batch_size'], target_only=False)\n",
    "tt_set = prep_dataloader(tt_path, 'test', config['batch_size'], target_only=False)"
   ],
   "outputs": [
    {
     "name": "stdout",
     "output_type": "stream",
     "text": [
      "Finished reading the train set of COVID19 Dataset (2430 samples found, each dim = 93)\n",
      "Finished reading the dev set of COVID19 Dataset (270 samples found, each dim = 93)\n",
      "Finished reading the test set of COVID19 Dataset (893 samples found, each dim = 93)\n"
     ]
    }
   ],
   "execution_count": 49
  },
  {
   "cell_type": "code",
   "metadata": {
    "id": "FHylSirLP9oh",
    "ExecuteTime": {
     "end_time": "2025-09-09T10:50:47.475777Z",
     "start_time": "2025-09-09T10:50:47.469546Z"
    }
   },
   "source": "model = NeuralNet(input_dim=tr_set.dataset.dim, output_dim=1,num_hidden_layers=5).to(device)  # Construct model and move to device",
   "outputs": [],
   "execution_count": 50
  },
  {
   "cell_type": "markdown",
   "metadata": {
    "id": "sX2B_zgSOPTJ"
   },
   "source": [
    "# **Start Training!**"
   ]
  },
  {
   "cell_type": "code",
   "metadata": {
    "colab": {
     "base_uri": "https://localhost:8080/"
    },
    "id": "GrEbUxazQAAZ",
    "outputId": "83f58a12-014e-426c-dc03-8ec861f56200",
    "ExecuteTime": {
     "end_time": "2025-09-09T10:51:39.734885Z",
     "start_time": "2025-09-09T10:50:49.239242Z"
    }
   },
   "source": [
    "model_loss, model_loss_record = train(tr_set, dv_set, model, config, device)"
   ],
   "outputs": [
    {
     "name": "stdout",
     "output_type": "stream",
     "text": [
      "Saving model (epoch =    1, loss = 321.5809)\n",
      "Saving model (epoch =    2, loss = 317.6158)\n",
      "Saving model (epoch =    3, loss = 312.4241)\n",
      "Saving model (epoch =    4, loss = 306.5226)\n",
      "Saving model (epoch =    5, loss = 300.1120)\n",
      "Saving model (epoch =    6, loss = 293.2152)\n",
      "Saving model (epoch =    7, loss = 285.6257)\n",
      "Saving model (epoch =    8, loss = 277.2388)\n",
      "Saving model (epoch =    9, loss = 267.7460)\n",
      "Saving model (epoch =   10, loss = 256.7156)\n",
      "Saving model (epoch =   11, loss = 243.6330)\n",
      "Saving model (epoch =   12, loss = 227.7447)\n",
      "Saving model (epoch =   13, loss = 207.8397)\n",
      "Saving model (epoch =   14, loss = 182.4483)\n",
      "Saving model (epoch =   15, loss = 150.0661)\n",
      "Saving model (epoch =   16, loss = 110.8580)\n",
      "Saving model (epoch =   17, loss = 71.1552)\n",
      "Saving model (epoch =   18, loss = 51.7981)\n",
      "Saving model (epoch =   20, loss = 43.9934)\n",
      "Saving model (epoch =   21, loss = 36.2631)\n",
      "Saving model (epoch =   22, loss = 30.3028)\n",
      "Saving model (epoch =   23, loss = 22.6281)\n",
      "Saving model (epoch =   24, loss = 19.9240)\n",
      "Saving model (epoch =   25, loss = 18.3270)\n",
      "Saving model (epoch =   26, loss = 17.8929)\n",
      "Saving model (epoch =   27, loss = 15.8946)\n",
      "Saving model (epoch =   28, loss = 14.7427)\n",
      "Saving model (epoch =   29, loss = 14.1559)\n",
      "Saving model (epoch =   30, loss = 13.4626)\n",
      "Saving model (epoch =   31, loss = 12.3481)\n",
      "Saving model (epoch =   32, loss = 11.8241)\n",
      "Saving model (epoch =   33, loss = 11.6057)\n",
      "Saving model (epoch =   34, loss = 10.6467)\n",
      "Saving model (epoch =   35, loss = 10.0175)\n",
      "Saving model (epoch =   36, loss = 9.6486)\n",
      "Saving model (epoch =   37, loss = 9.1793)\n",
      "Saving model (epoch =   38, loss = 8.6907)\n",
      "Saving model (epoch =   39, loss = 8.4732)\n",
      "Saving model (epoch =   40, loss = 8.2597)\n",
      "Saving model (epoch =   41, loss = 7.5990)\n",
      "Saving model (epoch =   42, loss = 7.2194)\n",
      "Saving model (epoch =   43, loss = 7.1671)\n",
      "Saving model (epoch =   44, loss = 7.0059)\n",
      "Saving model (epoch =   45, loss = 6.3654)\n",
      "Saving model (epoch =   46, loss = 6.1548)\n",
      "Saving model (epoch =   48, loss = 5.7663)\n",
      "Saving model (epoch =   49, loss = 5.4817)\n",
      "Saving model (epoch =   50, loss = 5.2756)\n",
      "Saving model (epoch =   52, loss = 5.1191)\n",
      "Saving model (epoch =   53, loss = 4.6402)\n",
      "Saving model (epoch =   54, loss = 4.5085)\n",
      "Saving model (epoch =   56, loss = 4.4524)\n",
      "Saving model (epoch =   57, loss = 4.1124)\n",
      "Saving model (epoch =   58, loss = 4.0431)\n",
      "Saving model (epoch =   59, loss = 3.9991)\n",
      "Saving model (epoch =   60, loss = 3.8542)\n",
      "Saving model (epoch =   61, loss = 3.8482)\n",
      "Saving model (epoch =   62, loss = 3.6488)\n",
      "Saving model (epoch =   63, loss = 3.5297)\n",
      "Saving model (epoch =   64, loss = 3.5163)\n",
      "Saving model (epoch =   65, loss = 3.4198)\n",
      "Saving model (epoch =   66, loss = 3.1769)\n",
      "Saving model (epoch =   70, loss = 3.0672)\n",
      "Saving model (epoch =   71, loss = 2.9590)\n",
      "Saving model (epoch =   74, loss = 2.9342)\n",
      "Saving model (epoch =   77, loss = 2.8458)\n",
      "Saving model (epoch =   78, loss = 2.6153)\n",
      "Saving model (epoch =   81, loss = 2.5592)\n",
      "Saving model (epoch =   82, loss = 2.5164)\n",
      "Saving model (epoch =   84, loss = 2.4987)\n",
      "Saving model (epoch =   85, loss = 2.4119)\n",
      "Saving model (epoch =   88, loss = 2.2791)\n",
      "Saving model (epoch =   90, loss = 2.2765)\n",
      "Saving model (epoch =   94, loss = 2.2433)\n",
      "Saving model (epoch =   96, loss = 2.2393)\n",
      "Saving model (epoch =   97, loss = 2.2024)\n",
      "Saving model (epoch =  100, loss = 2.1655)\n",
      "Saving model (epoch =  101, loss = 2.1085)\n",
      "Saving model (epoch =  102, loss = 2.0620)\n",
      "Saving model (epoch =  103, loss = 2.0198)\n",
      "Saving model (epoch =  106, loss = 1.9536)\n",
      "Saving model (epoch =  110, loss = 1.9208)\n",
      "Saving model (epoch =  113, loss = 1.8874)\n",
      "Saving model (epoch =  116, loss = 1.8775)\n",
      "Saving model (epoch =  117, loss = 1.8048)\n",
      "Saving model (epoch =  120, loss = 1.7755)\n",
      "Saving model (epoch =  123, loss = 1.7463)\n",
      "Saving model (epoch =  127, loss = 1.7039)\n",
      "Saving model (epoch =  134, loss = 1.6668)\n",
      "Saving model (epoch =  143, loss = 1.6516)\n",
      "Saving model (epoch =  149, loss = 1.6372)\n",
      "Saving model (epoch =  153, loss = 1.5492)\n",
      "Saving model (epoch =  169, loss = 1.5268)\n",
      "Saving model (epoch =  182, loss = 1.4867)\n",
      "Saving model (epoch =  203, loss = 1.4283)\n",
      "Saving model (epoch =  229, loss = 1.4106)\n",
      "Saving model (epoch =  236, loss = 1.3792)\n",
      "Saving model (epoch =  258, loss = 1.3693)\n",
      "Saving model (epoch =  279, loss = 1.3653)\n",
      "Saving model (epoch =  297, loss = 1.3275)\n",
      "Saving model (epoch =  298, loss = 1.3101)\n",
      "Saving model (epoch =  313, loss = 1.2904)\n",
      "Saving model (epoch =  329, loss = 1.2883)\n",
      "Saving model (epoch =  330, loss = 1.2683)\n",
      "Saving model (epoch =  365, loss = 1.2394)\n",
      "Saving model (epoch =  382, loss = 1.2377)\n",
      "Saving model (epoch =  395, loss = 1.2152)\n",
      "Saving model (epoch =  409, loss = 1.2119)\n",
      "Saving model (epoch =  410, loss = 1.1758)\n",
      "Saving model (epoch =  447, loss = 1.1758)\n",
      "Saving model (epoch =  454, loss = 1.1592)\n",
      "Saving model (epoch =  466, loss = 1.1502)\n",
      "Saving model (epoch =  476, loss = 1.1453)\n",
      "Saving model (epoch =  658, loss = 1.1265)\n",
      "Saving model (epoch =  687, loss = 1.1237)\n",
      "Saving model (epoch =  704, loss = 1.1124)\n",
      "Saving model (epoch =  785, loss = 1.1092)\n",
      "Saving model (epoch =  841, loss = 1.1070)\n",
      "Finished training after 1342 epochs\n"
     ]
    }
   ],
   "execution_count": 51
  },
  {
   "cell_type": "code",
   "metadata": {
    "colab": {
     "base_uri": "https://localhost:8080/",
     "height": 410
    },
    "id": "hsNO9nnXQBvP",
    "outputId": "d0c20e01-d082-4595-feb4-2fa85813d169",
    "ExecuteTime": {
     "end_time": "2025-09-09T10:52:10.702793Z",
     "start_time": "2025-09-09T10:52:10.554781Z"
    }
   },
   "source": [
    "plot_learning_curve(model_loss_record, title='deep model')"
   ],
   "outputs": [
    {
     "data": {
      "text/plain": [
       "<Figure size 600x400 with 1 Axes>"
      ],
      "image/png": "[encoded data removed]"
     },
     "metadata": {},
     "output_type": "display_data"
    }
   ],
   "execution_count": 52
  },
  {
   "cell_type": "code",
   "metadata": {
    "colab": {
     "base_uri": "https://localhost:8080/",
     "height": 487
    },
    "id": "3iZTVn5WQFpX",
    "outputId": "9629dfdc-cbaf-4a91-c4d4-682d29d4057b",
    "ExecuteTime": {
     "end_time": "2025-09-09T10:53:11.901105Z",
     "start_time": "2025-09-09T10:53:11.787224Z"
    }
   },
   "source": [
    "del model\n",
    "model = NeuralNet(tr_set.dataset.dim).to(device)\n",
    "ckpt = torch.load(config['save_path'], map_location='cpu')  # Load your best model\n",
    "model.load_state_dict(ckpt)\n",
    "plot_pred(dv_set, model, device)  # Show prediction on the validation set"
   ],
   "outputs": [
    {
     "name": "stderr",
     "output_type": "stream",
     "text": [
      "C:\\Users\\12695\\AppData\\Local\\Temp\\ipykernel_3448\\503339345.py:3: FutureWarning: You are using `torch.load` with `weights_only=False` (the current default value), which uses the default pickle module implicitly. It is possible to construct malicious pickle data which will execute arbitrary code during unpickling (See https://github.com/pytorch/pytorch/blob/main/SECURITY.md#untrusted-models for more details). In a future release, the default value for `weights_only` will be flipped to `True`. This limits the functions that could be executed during unpickling. Arbitrary objects will no longer be allowed to be loaded via this mode unless they are explicitly allowlisted by the user via `torch.serialization.add_safe_globals`. We recommend you start setting `weights_only=True` for any use case where you don't have full control of the loaded file. Please open an issue on GitHub for any issues related to this experimental feature.\n",
      "  ckpt = torch.load(config['save_path'], map_location='cpu')  # Load your best model\n"
     ]
    },
    {
     "ename": "RuntimeError",
     "evalue": "Error(s) in loading state_dict for NeuralNet:\n\tUnexpected key(s) in state_dict: \"net.15.weight\", \"net.15.bias\", \"net.18.weight\", \"net.18.bias\". \n\tsize mismatch for net.12.weight: copying a param with shape torch.Size([64, 64]) from checkpoint, the shape in current model is torch.Size([1, 64]).\n\tsize mismatch for net.12.bias: copying a param with shape torch.Size([64]) from checkpoint, the shape in current model is torch.Size([1]).",
     "output_type": "error",
     "traceback": [
      "\u001B[1;31m---------------------------------------------------------------------------\u001B[0m",
      "\u001B[1;31mRuntimeError\u001B[0m                              Traceback (most recent call last)",
      "Cell \u001B[1;32mIn[56], line 4\u001B[0m\n\u001B[0;32m      2\u001B[0m model \u001B[38;5;241m=\u001B[39m NeuralNet(tr_set\u001B[38;5;241m.\u001B[39mdataset\u001B[38;5;241m.\u001B[39mdim)\u001B[38;5;241m.\u001B[39mto(device)\n\u001B[0;32m      3\u001B[0m ckpt \u001B[38;5;241m=\u001B[39m torch\u001B[38;5;241m.\u001B[39mload(config[\u001B[38;5;124m'\u001B[39m\u001B[38;5;124msave_path\u001B[39m\u001B[38;5;124m'\u001B[39m], map_location\u001B[38;5;241m=\u001B[39m\u001B[38;5;124m'\u001B[39m\u001B[38;5;124mcpu\u001B[39m\u001B[38;5;124m'\u001B[39m)  \u001B[38;5;66;03m# Load your best model\u001B[39;00m\n\u001B[1;32m----> 4\u001B[0m \u001B[43mmodel\u001B[49m\u001B[38;5;241;43m.\u001B[39;49m\u001B[43mload_state_dict\u001B[49m\u001B[43m(\u001B[49m\u001B[43mckpt\u001B[49m\u001B[43m)\u001B[49m\n\u001B[0;32m      5\u001B[0m plot_pred(dv_set, model, device)  \u001B[38;5;66;03m# Show prediction on the validation set\u001B[39;00m\n",
      "File \u001B[1;32m~\\AppData\\Roaming\\Python\\Python312\\site-packages\\torch\\nn\\modules\\module.py:2584\u001B[0m, in \u001B[0;36mModule.load_state_dict\u001B[1;34m(self, state_dict, strict, assign)\u001B[0m\n\u001B[0;32m   2576\u001B[0m         error_msgs\u001B[38;5;241m.\u001B[39minsert(\n\u001B[0;32m   2577\u001B[0m             \u001B[38;5;241m0\u001B[39m,\n\u001B[0;32m   2578\u001B[0m             \u001B[38;5;124m\"\u001B[39m\u001B[38;5;124mMissing key(s) in state_dict: \u001B[39m\u001B[38;5;132;01m{}\u001B[39;00m\u001B[38;5;124m. \u001B[39m\u001B[38;5;124m\"\u001B[39m\u001B[38;5;241m.\u001B[39mformat(\n\u001B[0;32m   2579\u001B[0m                 \u001B[38;5;124m\"\u001B[39m\u001B[38;5;124m, \u001B[39m\u001B[38;5;124m\"\u001B[39m\u001B[38;5;241m.\u001B[39mjoin(\u001B[38;5;124mf\u001B[39m\u001B[38;5;124m'\u001B[39m\u001B[38;5;124m\"\u001B[39m\u001B[38;5;132;01m{\u001B[39;00mk\u001B[38;5;132;01m}\u001B[39;00m\u001B[38;5;124m\"\u001B[39m\u001B[38;5;124m'\u001B[39m \u001B[38;5;28;01mfor\u001B[39;00m k \u001B[38;5;129;01min\u001B[39;00m missing_keys)\n\u001B[0;32m   2580\u001B[0m             ),\n\u001B[0;32m   2581\u001B[0m         )\n\u001B[0;32m   2583\u001B[0m \u001B[38;5;28;01mif\u001B[39;00m \u001B[38;5;28mlen\u001B[39m(error_msgs) \u001B[38;5;241m>\u001B[39m \u001B[38;5;241m0\u001B[39m:\n\u001B[1;32m-> 2584\u001B[0m     \u001B[38;5;28;01mraise\u001B[39;00m \u001B[38;5;167;01mRuntimeError\u001B[39;00m(\n\u001B[0;32m   2585\u001B[0m         \u001B[38;5;124m\"\u001B[39m\u001B[38;5;124mError(s) in loading state_dict for \u001B[39m\u001B[38;5;132;01m{}\u001B[39;00m\u001B[38;5;124m:\u001B[39m\u001B[38;5;130;01m\\n\u001B[39;00m\u001B[38;5;130;01m\\t\u001B[39;00m\u001B[38;5;132;01m{}\u001B[39;00m\u001B[38;5;124m\"\u001B[39m\u001B[38;5;241m.\u001B[39mformat(\n\u001B[0;32m   2586\u001B[0m             \u001B[38;5;28mself\u001B[39m\u001B[38;5;241m.\u001B[39m\u001B[38;5;18m__class__\u001B[39m\u001B[38;5;241m.\u001B[39m\u001B[38;5;18m__name__\u001B[39m, \u001B[38;5;124m\"\u001B[39m\u001B[38;5;130;01m\\n\u001B[39;00m\u001B[38;5;130;01m\\t\u001B[39;00m\u001B[38;5;124m\"\u001B[39m\u001B[38;5;241m.\u001B[39mjoin(error_msgs)\n\u001B[0;32m   2587\u001B[0m         )\n\u001B[0;32m   2588\u001B[0m     )\n\u001B[0;32m   2589\u001B[0m \u001B[38;5;28;01mreturn\u001B[39;00m _IncompatibleKeys(missing_keys, unexpected_keys)\n",
      "\u001B[1;31mRuntimeError\u001B[0m: Error(s) in loading state_dict for NeuralNet:\n\tUnexpected key(s) in state_dict: \"net.15.weight\", \"net.15.bias\", \"net.18.weight\", \"net.18.bias\". \n\tsize mismatch for net.12.weight: copying a param with shape torch.Size([64, 64]) from checkpoint, the shape in current model is torch.Size([1, 64]).\n\tsize mismatch for net.12.bias: copying a param with shape torch.Size([64]) from checkpoint, the shape in current model is torch.Size([1])."
     ]
    }
   ],
   "execution_count": 56
  },
  {
   "cell_type": "markdown",
   "metadata": {
    "id": "aQikz3IPiyPf"
   },
   "source": [
    "# **Testing**\n",
    "The predictions of your model on testing set will be stored at `pred.csv`."
   ]
  },
  {
   "cell_type": "code",
   "source": [],
   "metadata": {
    "id": "UgDEDtQEhaGi"
   },
   "execution_count": null,
   "outputs": []
  },
  {
   "cell_type": "code",
   "metadata": {
    "colab": {
     "base_uri": "https://localhost:8080/"
    },
    "id": "O8cTuQjQQOon",
    "outputId": "7c3d5f5e-4b04-42b6-d3ff-464f4eb55978",
    "ExecuteTime": {
     "end_time": "2025-09-09T10:54:20.690112Z",
     "start_time": "2025-09-09T10:54:20.680372Z"
    }
   },
   "source": [
    "def save_pred(preds, file):\n",
    "    ''' Save predictions to specified file '''\n",
    "    print('Saving results to {}'.format(file))\n",
    "    with open(file, 'w') as fp:\n",
    "        writer = csv.writer(fp)\n",
    "        writer.writerow(['id', 'tested_positive'])\n",
    "        for i, p in enumerate(preds):\n",
    "            writer.writerow([i, p])\n",
    "\n",
    "preds = test(tt_set, model, device)  # predict COVID-19 cases with your model\n",
    "save_pred(preds, 'pred.csv')         # save prediction file to pred.csv"
   ],
   "outputs": [
    {
     "name": "stdout",
     "output_type": "stream",
     "text": [
      "Saving results to pred.csv\n"
     ]
    }
   ],
   "execution_count": 57
  },
  {
   "cell_type": "markdown",
   "metadata": {
    "id": "nfrVxqJanGpE"
   },
   "source": [
    "# **Hints**\n",
    "\n",
    "## **Simple Baseline**\n",
    "* Run sample code\n",
    "\n",
    "## **Medium Baseline**\n",
    "* Feature selection: 40 states + 2 `tested_positive` (`TODO` in dataset)\n",
    "\n",
    "## **Strong Baseline**\n",
    "* Feature selection (what other features are useful?)\n",
    "* DNN architecture (layers? dimension? activation function?)\n",
    "* Training (mini-batch? optimizer? learning rate?)\n",
    "* L2 regularization\n",
    "* There are some mistakes in the sample code, can you find them?"
   ]
  },
  {
   "cell_type": "markdown",
   "metadata": {
    "id": "9tmCwXgpot3t"
   },
   "source": [
    "# **Reference**\n",
    "This code is completely written by Heng-Jui Chang @ NTUEE.  \n",
    "Copying or reusing this code is required to specify the original author.\n",
    "\n",
    "E.g.  \n",
    "Source: Heng-Jui Chang @ NTUEE (https://github.com/ga642381/ML2021-Spring/blob/main/HW01/HW01.ipynb)\n"
   ]
  }
 ]
}
