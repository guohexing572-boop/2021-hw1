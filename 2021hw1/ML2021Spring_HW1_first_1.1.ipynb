{
 "nbformat": 4,
 "nbformat_minor": 0,
 "metadata": {
  "colab": {
   "name": "ML2021Spring - HW1.ipynb",
   "provenance": []
  },
  "kernelspec": {
   "name": "python3",
   "display_name": "Python 3 (ipykernel)",
   "language": "python"
  },
  "accelerator": "GPU"
 },
 "cells": [
  {
   "cell_type": "markdown",
   "metadata": {
    "id": "mz0_QVkxCrX3"
   },
   "source": [
    "# **Homework 1: COVID-19 Cases Prediction (Regression)**"
   ]
  },
  {
   "cell_type": "markdown",
   "metadata": {
    "id": "ZeZnPAiwDRWG"
   },
   "source": [
    "Author: Heng-Jui Chang\n",
    "\n",
    "Slides: https://github.com/ga642381/ML2021-Spring/blob/main/HW01/HW01.pdf  \n",
    "Videos (Mandarin): https://cool.ntu.edu.tw/courses/4793/modules/items/172854  \n",
    "https://cool.ntu.edu.tw/courses/4793/modules/items/172853  \n",
    "Video (English): https://cool.ntu.edu.tw/courses/4793/modules/items/176529\n",
    "\n",
    "\n",
    "Objectives:\n",
    "* Solve a regression problem with deep neural networks (DNN).\n",
    "* Understand basic DNN training tips.\n",
    "* Get familiar with PyTorch.\n",
    "\n",
    "If any questions, please contact the TAs via TA hours, NTU COOL, or email.\n"
   ]
  },
  {
   "cell_type": "markdown",
   "metadata": {
    "id": "Jx3x1nDkG-Uy"
   },
   "source": [
    "# **Download Data**\n",
    "\n",
    "\n",
    "If the Google drive links are dead, you can download data from [kaggle](https://www.kaggle.com/c/ml2021spring-hw1/data), and upload data manually to the workspace."
   ]
  },
  {
   "cell_type": "code",
   "metadata": {
    "colab": {
     "base_uri": "https://localhost:8080/"
    },
    "id": "tMj55YDKG6ch",
    "outputId": "82b6f68b-9693-4c49-a001-b49615a6efff",
    "ExecuteTime": {
     "end_time": "2025-09-09T10:56:00.735673Z",
     "start_time": "2025-09-09T10:56:00.732132Z"
    }
   },
   "source": [
    "tr_path = 'covid.train.csv'  # path to training data\n",
    "tt_path = 'covid.test.csv'   # path to testing data\n",
    "\n",
    "# !gdown --id '19CCyCgJrUxtvgZF53vnctJiOJ23T5mqF' --output covid.train.csv\n",
    "# !gdown --id '1CE240jLm2npU-tdz81-oVKEF3T2yfT1O' --output covid.test.csv"
   ],
   "outputs": [],
   "execution_count": 1
  },
  {
   "cell_type": "markdown",
   "metadata": {
    "id": "wS_4-77xHk44"
   },
   "source": [
    "# **Import Some Packages**"
   ]
  },
  {
   "cell_type": "code",
   "metadata": {
    "id": "k-onQd4JNA5H",
    "ExecuteTime": {
     "end_time": "2025-09-09T10:56:02.662645Z",
     "start_time": "2025-09-09T10:56:00.736179Z"
    }
   },
   "source": [
    "# PyTorch\n",
    "import torch\n",
    "import torch.nn as nn\n",
    "from torch.utils.data import Dataset, DataLoader\n",
    "\n",
    "# For data preprocess\n",
    "import numpy as np\n",
    "import csv\n",
    "import os\n",
    "\n",
    "# For plotting\n",
    "import matplotlib.pyplot as plt\n",
    "from matplotlib.pyplot import figure\n",
    "\n",
    "myseed = 42069  # set a random seed for reproducibility\n",
    "torch.backends.cudnn.deterministic = True\n",
    "torch.backends.cudnn.benchmark = False\n",
    "np.random.seed(myseed)\n",
    "torch.manual_seed(myseed)\n",
    "if torch.cuda.is_available():\n",
    "    torch.cuda.manual_seed_all(myseed)"
   ],
   "outputs": [],
   "execution_count": 2
  },
  {
   "cell_type": "markdown",
   "metadata": {
    "id": "BtE3b6JEH7rw"
   },
   "source": [
    "# **Some Utilities**\n",
    "\n",
    "You do not need to modify this part."
   ]
  },
  {
   "cell_type": "code",
   "metadata": {
    "id": "FWMT3uf1NGQp",
    "ExecuteTime": {
     "end_time": "2025-09-09T10:56:02.669223Z",
     "start_time": "2025-09-09T10:56:02.662645Z"
    }
   },
   "source": [
    "def get_device():\n",
    "    ''' Get device (if GPU is available, use GPU) '''\n",
    "    return 'cuda' if torch.cuda.is_available() else 'cpu'\n",
    "\n",
    "def plot_learning_curve(loss_record, title=''):\n",
    "    ''' Plot learning curve of your DNN (train & dev loss) '''\n",
    "    total_steps = len(loss_record['train'])\n",
    "    x_1 = range(total_steps)\n",
    "    x_2 = x_1[::len(loss_record['train']) // len(loss_record['dev'])]\n",
    "    figure(figsize=(6, 4))\n",
    "    plt.plot(x_1, loss_record['train'], c='tab:red', label='train')\n",
    "    plt.plot(x_2, loss_record['dev'], c='tab:cyan', label='dev')\n",
    "    plt.ylim(0.0, 5.)\n",
    "    plt.xlabel('Training steps')\n",
    "    plt.ylabel('MSE loss')\n",
    "    plt.title('Learning curve of {}'.format(title))\n",
    "    plt.legend()\n",
    "    plt.show()\n",
    "\n",
    "\n",
    "def plot_pred(dv_set, model, device, lim=35., preds=None, targets=None):\n",
    "    ''' Plot prediction of your DNN '''\n",
    "    if preds is None or targets is None:\n",
    "        model.eval()\n",
    "        preds, targets = [], []\n",
    "        for x, y in dv_set:\n",
    "            x, y = x.to(device), y.to(device)\n",
    "            with torch.no_grad():\n",
    "                pred = model(x)\n",
    "                preds.append(pred.detach().cpu())\n",
    "                targets.append(y.detach().cpu())\n",
    "        preds = torch.cat(preds, dim=0).numpy()\n",
    "        targets = torch.cat(targets, dim=0).numpy()\n",
    "\n",
    "    figure(figsize=(5, 5))\n",
    "    plt.scatter(targets, preds, c='r', alpha=0.5)\n",
    "    plt.plot([-0.2, lim], [-0.2, lim], c='b')\n",
    "    plt.xlim(-0.2, lim)\n",
    "    plt.ylim(-0.2, lim)\n",
    "    plt.xlabel('ground truth value')\n",
    "    plt.ylabel('predicted value')\n",
    "    plt.title('Ground Truth v.s. Prediction')\n",
    "    plt.show()"
   ],
   "outputs": [],
   "execution_count": 3
  },
  {
   "cell_type": "markdown",
   "metadata": {
    "id": "39U_XFX6KOoj"
   },
   "source": [
    "# **Preprocess**\n",
    "\n",
    "We have three kinds of datasets:\n",
    "* `train`: for training\n",
    "* `dev`: for validation\n",
    "* `test`: for testing (w/o target value)"
   ]
  },
  {
   "cell_type": "markdown",
   "metadata": {
    "id": "TQ-MdwpLL7Dt"
   },
   "source": [
    "## **Dataset**\n",
    "\n",
    "The `COVID19Dataset` below does:\n",
    "* read `.csv` files\n",
    "* extract features\n",
    "* split `covid.train.csv` into train/dev sets\n",
    "* normalize features\n",
    "\n",
    "Finishing `TODO` below might make you pass medium baseline."
   ]
  },
  {
   "cell_type": "code",
   "metadata": {
    "id": "0zlpIp9ANJRU",
    "ExecuteTime": {
     "end_time": "2025-09-09T10:56:02.676459Z",
     "start_time": "2025-09-09T10:56:02.669223Z"
    }
   },
   "source": [
    "class COVID19Dataset(Dataset):\n",
    "    ''' Dataset for loading and preprocessing the COVID19 dataset '''\n",
    "    def __init__(self,\n",
    "                 path,\n",
    "                 mode='train',\n",
    "                 target_only=False):\n",
    "        self.mode = mode\n",
    "\n",
    "        # Read data into numpy arrays\n",
    "        with open(path, 'r') as fp:\n",
    "            data = list(csv.reader(fp))\n",
    "            data = np.array(data[1:])[:, 1:].astype(float)\n",
    "\n",
    "        if not target_only:\n",
    "            feats = list(range(93))\n",
    "        else:\n",
    "            # TODO: Using 40 states & 2 tested_positive features (indices = 57 & 75)\n",
    "            state_feats = list(range(40))\n",
    "            tested_positive_feats = [57, 75]\n",
    "            feats = state_feats + tested_positive_feats\n",
    "\n",
    "        if mode == 'test':\n",
    "            # Testing data\n",
    "            # data: 893 x 93 (40 states + day 1 (18) + day 2 (18) + day 3 (17))\n",
    "            data = data[:, feats]\n",
    "            self.data = torch.FloatTensor(data)\n",
    "        else:\n",
    "            # Training data (train/dev sets)\n",
    "            # data: 2700 x 94 (40 states + day 1 (18) + day 2 (18) + day 3 (18))\n",
    "            target = data[:, -1]\n",
    "            data = data[:, feats]\n",
    "\n",
    "            # Splitting training data into train & dev sets\n",
    "            if mode == 'train':\n",
    "                indices = [i for i in range(len(data)) if i % 10 != 0]\n",
    "            elif mode == 'dev':\n",
    "                indices = [i for i in range(len(data)) if i % 10 == 0]\n",
    "\n",
    "            # Convert data into PyTorch tensors\n",
    "            self.data = torch.FloatTensor(data[indices])\n",
    "            self.target = torch.FloatTensor(target[indices])\n",
    "\n",
    "        # Normalize features (you may remove this part to see what will happen)\n",
    "        self.data[:, 40:] = \\\n",
    "            (self.data[:, 40:] - self.data[:, 40:].mean(dim=0, keepdim=True)) \\\n",
    "            / self.data[:, 40:].std(dim=0, keepdim=True)\n",
    "\n",
    "        self.dim = self.data.shape[1]\n",
    "\n",
    "        print('Finished reading the {} set of COVID19 Dataset ({} samples found, each dim = {})'\n",
    "              .format(mode, len(self.data), self.dim))\n",
    "\n",
    "    def __getitem__(self, index):\n",
    "        # Returns one sample at a time\n",
    "        if self.mode in ['train', 'dev']:\n",
    "            # For training\n",
    "            return self.data[index], self.target[index]\n",
    "        else:\n",
    "            # For testing (no target)\n",
    "            return self.data[index]\n",
    "\n",
    "    def __len__(self):\n",
    "        # Returns the size of the dataset\n",
    "        return len(self.data)"
   ],
   "outputs": [],
   "execution_count": 4
  },
  {
   "cell_type": "markdown",
   "metadata": {
    "id": "AlhTlkE7MDo3"
   },
   "source": [
    "## **DataLoader**\n",
    "\n",
    "A `DataLoader` loads data from a given `Dataset` into batches.\n"
   ]
  },
  {
   "cell_type": "code",
   "metadata": {
    "id": "hlhLk5t6MBX3",
    "ExecuteTime": {
     "end_time": "2025-09-09T10:56:02.683068Z",
     "start_time": "2025-09-09T10:56:02.678538Z"
    }
   },
   "source": [
    "def prep_dataloader(path, mode, batch_size, n_jobs=0, target_only=False):\n",
    "    ''' Generates a dataset, then is put into a dataloader. '''\n",
    "    dataset = COVID19Dataset(path, mode=mode, target_only=target_only)  # Construct dataset\n",
    "    dataloader = DataLoader(\n",
    "        dataset, batch_size,\n",
    "        shuffle=(mode == 'train'), drop_last=False,\n",
    "        num_workers=n_jobs, pin_memory=True)                            # Construct dataloader\n",
    "    return dataloader"
   ],
   "outputs": [],
   "execution_count": 5
  },
  {
   "cell_type": "markdown",
   "metadata": {
    "id": "SGuycwR0MeQB"
   },
   "source": [
    "# **Deep Neural Network**\n",
    "\n",
    "`NeuralNet` is an `nn.Module` designed for regression.\n",
    "The DNN consists of 2 fully-connected layers with ReLU activation.\n",
    "This module also included a function `cal_loss` for calculating loss.\n"
   ]
  },
  {
   "cell_type": "code",
   "metadata": {
    "id": "49-uXYovOAI0",
    "colab": {
     "base_uri": "https://localhost:8080/",
     "height": 112
    },
    "outputId": "14d8f4c3-c335-42b5-8f27-55d0a69ddcb6",
    "ExecuteTime": {
     "end_time": "2025-09-09T10:56:02.688765Z",
     "start_time": "2025-09-09T10:56:02.684120Z"
    }
   },
   "source": [
    "class NeuralNet(nn.Module):\n",
    "    ''' A simple fully-connected deep neural network '''\n",
    "    def __init__(self, input_dim):\n",
    "        super(NeuralNet, self).__init__()\n",
    "\n",
    "        # Define your neural network here\n",
    "        # TODO: How to modify this model to achieve better performance?\n",
    "        self.net = nn.Sequential(\n",
    "            nn.Linear(input_dim, 64),\n",
    "            nn.ReLU(),\n",
    "            nn.Linear(64, 64),\n",
    "            nn.ReLU(),\n",
    "            nn.Linear(64, 32),\n",
    "            nn.ReLU(),\n",
    "            nn.Linear(32, 32),\n",
    "            nn.ReLU(),\n",
    "            nn.Linear(32, 16),\n",
    "            nn.ReLU(),\n",
    "            nn.Linear(16, 4),\n",
    "            nn.ReLU(),\n",
    "            nn.Linear(4, 1),\n",
    "        )\n",
    "\n",
    "        # Mean squared error loss\n",
    "        self.criterion = nn.MSELoss(reduction='mean')\n",
    "\n",
    "    def forward(self, x):\n",
    "        ''' Given input of size (batch_size x input_dim), compute output of the network '''\n",
    "        return self.net(x).squeeze(1)\n",
    "\n",
    "    def cal_loss(self, pred, target,l2_lambda=0.001):\n",
    "        ''' Calculate loss '''\n",
    "        mse_loss = self.criterion(pred, target)\n",
    "        # TODO: you may implement L1/L2 regularization here\n",
    "        l2_reg = torch.tensor(0.,device=pred.device)\n",
    "        for param in self.parameters():\n",
    "            l2_reg += torch.norm(param,2)\n",
    "        return mse_loss+l2_lambda*l2_reg"
   ],
   "outputs": [],
   "execution_count": 6
  },
  {
   "cell_type": "markdown",
   "metadata": {
    "id": "DvFWVjZ5Nvga"
   },
   "source": [
    "# **Train/Dev/Test**"
   ]
  },
  {
   "cell_type": "markdown",
   "metadata": {
    "id": "MAM8QecJOyqn"
   },
   "source": [
    "## **Training**"
   ]
  },
  {
   "cell_type": "code",
   "metadata": {
    "id": "lOqcmYzMO7jB",
    "ExecuteTime": {
     "end_time": "2025-09-09T10:56:02.695841Z",
     "start_time": "2025-09-09T10:56:02.689873Z"
    }
   },
   "source": [
    "def train(tr_set, dv_set, model, config, device):\n",
    "    ''' DNN training '''\n",
    "\n",
    "    n_epochs = config['n_epochs']  # Maximum number of epochs\n",
    "\n",
    "    # Setup optimizer\n",
    "    optimizer = getattr(torch.optim, config['optimizer'])(\n",
    "        model.parameters(), **config['optim_hparas'])\n",
    "\n",
    "    min_mse = 1000.\n",
    "    loss_record = {'train': [], 'dev': []}      # for recording training loss\n",
    "    early_stop_cnt = 0\n",
    "    epoch = 0\n",
    "    while epoch < n_epochs:\n",
    "        model.train()                           # set model to training mode\n",
    "        for x, y in tr_set:                     # iterate through the dataloader\n",
    "            optimizer.zero_grad()               # set gradient to zero\n",
    "            x, y = x.to(device), y.to(device)   # move data to device (cpu/cuda)\n",
    "            pred = model(x)                     # forward pass (compute output)\n",
    "            mse_loss = model.cal_loss(pred, y)  # compute loss\n",
    "            mse_loss.backward()                 # compute gradient (backpropagation)\n",
    "            optimizer.step()                    # update model with optimizer\n",
    "            loss_record['train'].append(mse_loss.detach().cpu().item())\n",
    "\n",
    "        # After each epoch, test your model on the validation (development) set.\n",
    "        dev_mse = dev(dv_set, model, device)\n",
    "        if dev_mse < min_mse:\n",
    "            # Save model if your model improved\n",
    "            min_mse = dev_mse\n",
    "            print('Saving model (epoch = {:4d}, loss = {:.4f})'\n",
    "                .format(epoch + 1, min_mse))\n",
    "            torch.save(model.state_dict(), config['save_path'])  # Save model to specified path\n",
    "            early_stop_cnt = 0\n",
    "        else:\n",
    "            early_stop_cnt += 1\n",
    "\n",
    "        epoch += 1\n",
    "        loss_record['dev'].append(dev_mse)\n",
    "        if early_stop_cnt > config['early_stop']:\n",
    "            # Stop training if your model stops improving for \"config['early_stop']\" epochs.\n",
    "            break\n",
    "\n",
    "    print('Finished training after {} epochs'.format(epoch))\n",
    "    return min_mse, loss_record"
   ],
   "outputs": [],
   "execution_count": 7
  },
  {
   "cell_type": "markdown",
   "metadata": {
    "id": "0hSd4Bn3O2PL"
   },
   "source": [
    "## **Validation**"
   ]
  },
  {
   "cell_type": "code",
   "metadata": {
    "id": "yrxrD3YsN3U2",
    "ExecuteTime": {
     "end_time": "2025-09-09T10:56:02.700642Z",
     "start_time": "2025-09-09T10:56:02.696889Z"
    }
   },
   "source": [
    "def dev(dv_set, model, device):\n",
    "    model.eval()                                # set model to evalutation mode\n",
    "    total_loss = 0\n",
    "    for x, y in dv_set:                         # iterate through the dataloader\n",
    "        x, y = x.to(device), y.to(device)       # move data to device (cpu/cuda)\n",
    "        with torch.no_grad():                   # disable gradient calculation\n",
    "            pred = model(x)                     # forward pass (compute output)\n",
    "            mse_loss = model.cal_loss(pred, y)  # compute loss\n",
    "        total_loss += mse_loss.detach().cpu().item() * len(x)  # accumulate loss\n",
    "    total_loss = total_loss / len(dv_set.dataset)              # compute averaged loss\n",
    "\n",
    "    return total_loss"
   ],
   "outputs": [],
   "execution_count": 8
  },
  {
   "cell_type": "markdown",
   "metadata": {
    "id": "g0pdrhQAO41L"
   },
   "source": [
    "## **Testing**"
   ]
  },
  {
   "cell_type": "code",
   "metadata": {
    "id": "aSBMRFlYN5tB",
    "ExecuteTime": {
     "end_time": "2025-09-09T10:56:02.705955Z",
     "start_time": "2025-09-09T10:56:02.701888Z"
    }
   },
   "source": [
    "def test(tt_set, model, device):\n",
    "    model.eval()                                # set model to evalutation mode\n",
    "    preds = []\n",
    "    for x in tt_set:                            # iterate through the dataloader\n",
    "        x = x.to(device)                        # move data to device (cpu/cuda)\n",
    "        with torch.no_grad():                   # disable gradient calculation\n",
    "            pred = model(x)                     # forward pass (compute output)\n",
    "            preds.append(pred.detach().cpu())   # collect prediction\n",
    "    preds = torch.cat(preds, dim=0).numpy()     # concatenate all predictions and convert to a numpy array\n",
    "    return preds"
   ],
   "outputs": [],
   "execution_count": 9
  },
  {
   "cell_type": "markdown",
   "metadata": {
    "id": "SvckkF5dvf0j"
   },
   "source": [
    "# **Setup Hyper-parameters**\n",
    "\n",
    "`config` contains hyper-parameters for training and the path to save your model."
   ]
  },
  {
   "cell_type": "code",
   "metadata": {
    "id": "NPXpdumwPjE7",
    "ExecuteTime": {
     "end_time": "2025-09-09T10:56:02.711729Z",
     "start_time": "2025-09-09T10:56:02.706991Z"
    }
   },
   "source": [
    "device = get_device()                 # get the current available device ('cpu' or 'cuda')\n",
    "os.makedirs('models', exist_ok=True)  # The trained model will be saved to ./models/\n",
    "target_only = False                   # TODO: Using 40 states & 2 tested_positive features\n",
    "\n",
    "# TODO: How to tune these hyper-parameters to improve your model's performance?\n",
    "config = {\n",
    "    'n_epochs': 5000,                # maximum number of epochs\n",
    "    'batch_size': 512,               # mini-batch size for dataloader\n",
    "    'optimizer': 'SGD',              # optimization algorithm (optimizer in torch.optim)\n",
    "    'optim_hparas': {                # hyper-parameters for the optimizer (depends on which optimizer you are using)\n",
    "        'lr': 0.0001,                 # learning rate of SGD\n",
    "        'momentum': 0.9              # momentum for SGD\n",
    "    },\n",
    "    'early_stop': 200,               # early stopping epochs (the number epochs since your model's last improvement)\n",
    "    'save_path': 'models/model.pth'  # your model will be saved here\n",
    "}"
   ],
   "outputs": [],
   "execution_count": 10
  },
  {
   "cell_type": "markdown",
   "metadata": {
    "id": "6j1eOV3TOH-j"
   },
   "source": [
    "# **Load data and model**"
   ]
  },
  {
   "cell_type": "code",
   "metadata": {
    "colab": {
     "base_uri": "https://localhost:8080/"
    },
    "id": "eNrYBMmePLKm",
    "outputId": "28903b80-7d7b-418b-9470-302ccd269895",
    "ExecuteTime": {
     "end_time": "2025-09-09T10:56:03.059662Z",
     "start_time": "2025-09-09T10:56:02.713003Z"
    }
   },
   "source": [
    "tr_set = prep_dataloader(tr_path, 'train', config['batch_size'], target_only=False)\n",
    "dv_set = prep_dataloader(tr_path, 'dev', config['batch_size'], target_only=False)\n",
    "tt_set = prep_dataloader(tt_path, 'test', config['batch_size'], target_only=False)"
   ],
   "outputs": [
    {
     "name": "stdout",
     "output_type": "stream",
     "text": [
      "Finished reading the train set of COVID19 Dataset (2430 samples found, each dim = 93)\n",
      "Finished reading the dev set of COVID19 Dataset (270 samples found, each dim = 93)\n",
      "Finished reading the test set of COVID19 Dataset (893 samples found, each dim = 93)\n"
     ]
    }
   ],
   "execution_count": 11
  },
  {
   "cell_type": "code",
   "metadata": {
    "id": "FHylSirLP9oh",
    "ExecuteTime": {
     "end_time": "2025-09-09T10:56:03.064609Z",
     "start_time": "2025-09-09T10:56:03.059662Z"
    }
   },
   "source": [
    "model = NeuralNet(tr_set.dataset.dim).to(device)  # Construct model and move to device"
   ],
   "outputs": [],
   "execution_count": 12
  },
  {
   "cell_type": "markdown",
   "metadata": {
    "id": "sX2B_zgSOPTJ"
   },
   "source": [
    "# **Start Training!**"
   ]
  },
  {
   "cell_type": "code",
   "metadata": {
    "colab": {
     "base_uri": "https://localhost:8080/"
    },
    "id": "GrEbUxazQAAZ",
    "outputId": "83f58a12-014e-426c-dc03-8ec861f56200",
    "ExecuteTime": {
     "end_time": "2025-09-09T10:56:53.304948Z",
     "start_time": "2025-09-09T10:56:03.065803Z"
    }
   },
   "source": [
    "model_loss, model_loss_record = train(tr_set, dv_set, model, config, device)"
   ],
   "outputs": [
    {
     "name": "stdout",
     "output_type": "stream",
     "text": [
      "Saving model (epoch =    1, loss = 326.0446)\n",
      "Saving model (epoch =    2, loss = 322.3058)\n",
      "Saving model (epoch =    3, loss = 317.3240)\n",
      "Saving model (epoch =    4, loss = 311.5613)\n",
      "Saving model (epoch =    5, loss = 305.1750)\n",
      "Saving model (epoch =    6, loss = 298.1945)\n",
      "Saving model (epoch =    7, loss = 290.5806)\n",
      "Saving model (epoch =    8, loss = 282.1391)\n",
      "Saving model (epoch =    9, loss = 272.6652)\n",
      "Saving model (epoch =   10, loss = 261.8005)\n",
      "Saving model (epoch =   11, loss = 249.1437)\n",
      "Saving model (epoch =   12, loss = 233.9664)\n",
      "Saving model (epoch =   13, loss = 215.6207)\n",
      "Saving model (epoch =   14, loss = 193.1087)\n",
      "Saving model (epoch =   15, loss = 165.5498)\n",
      "Saving model (epoch =   16, loss = 132.7160)\n",
      "Saving model (epoch =   17, loss = 97.5109)\n",
      "Saving model (epoch =   18, loss = 68.1051)\n",
      "Saving model (epoch =   19, loss = 56.4118)\n",
      "Saving model (epoch =   22, loss = 50.0718)\n",
      "Saving model (epoch =   23, loss = 44.2304)\n",
      "Saving model (epoch =   24, loss = 37.1308)\n",
      "Saving model (epoch =   25, loss = 27.1516)\n",
      "Saving model (epoch =   26, loss = 20.9778)\n",
      "Saving model (epoch =   27, loss = 17.3331)\n",
      "Saving model (epoch =   28, loss = 14.5361)\n",
      "Saving model (epoch =   29, loss = 13.4440)\n",
      "Saving model (epoch =   30, loss = 11.9885)\n",
      "Saving model (epoch =   31, loss = 11.1314)\n",
      "Saving model (epoch =   32, loss = 10.1180)\n",
      "Saving model (epoch =   33, loss = 9.4532)\n",
      "Saving model (epoch =   34, loss = 8.8048)\n",
      "Saving model (epoch =   35, loss = 8.2763)\n",
      "Saving model (epoch =   36, loss = 7.7411)\n",
      "Saving model (epoch =   37, loss = 7.2640)\n",
      "Saving model (epoch =   38, loss = 6.8062)\n",
      "Saving model (epoch =   39, loss = 6.3743)\n",
      "Saving model (epoch =   40, loss = 5.9682)\n",
      "Saving model (epoch =   41, loss = 5.5969)\n",
      "Saving model (epoch =   42, loss = 5.2664)\n",
      "Saving model (epoch =   43, loss = 4.9496)\n",
      "Saving model (epoch =   44, loss = 4.6641)\n",
      "Saving model (epoch =   45, loss = 4.4214)\n",
      "Saving model (epoch =   46, loss = 4.1633)\n",
      "Saving model (epoch =   47, loss = 3.9536)\n",
      "Saving model (epoch =   48, loss = 3.7735)\n",
      "Saving model (epoch =   49, loss = 3.6002)\n",
      "Saving model (epoch =   50, loss = 3.4432)\n",
      "Saving model (epoch =   51, loss = 3.3012)\n",
      "Saving model (epoch =   52, loss = 3.1684)\n",
      "Saving model (epoch =   53, loss = 3.0465)\n",
      "Saving model (epoch =   54, loss = 2.9375)\n",
      "Saving model (epoch =   55, loss = 2.8405)\n",
      "Saving model (epoch =   56, loss = 2.7475)\n",
      "Saving model (epoch =   57, loss = 2.6697)\n",
      "Saving model (epoch =   58, loss = 2.5855)\n",
      "Saving model (epoch =   59, loss = 2.5120)\n",
      "Saving model (epoch =   60, loss = 2.4511)\n",
      "Saving model (epoch =   61, loss = 2.3957)\n",
      "Saving model (epoch =   62, loss = 2.3425)\n",
      "Saving model (epoch =   63, loss = 2.2972)\n",
      "Saving model (epoch =   64, loss = 2.2568)\n",
      "Saving model (epoch =   65, loss = 2.2151)\n",
      "Saving model (epoch =   66, loss = 2.1797)\n",
      "Saving model (epoch =   67, loss = 2.1520)\n",
      "Saving model (epoch =   68, loss = 2.1240)\n",
      "Saving model (epoch =   69, loss = 2.0884)\n",
      "Saving model (epoch =   70, loss = 2.0627)\n",
      "Saving model (epoch =   71, loss = 2.0404)\n",
      "Saving model (epoch =   72, loss = 2.0150)\n",
      "Saving model (epoch =   73, loss = 1.9986)\n",
      "Saving model (epoch =   74, loss = 1.9759)\n",
      "Saving model (epoch =   75, loss = 1.9558)\n",
      "Saving model (epoch =   76, loss = 1.9376)\n",
      "Saving model (epoch =   77, loss = 1.9243)\n",
      "Saving model (epoch =   78, loss = 1.9027)\n",
      "Saving model (epoch =   79, loss = 1.8844)\n",
      "Saving model (epoch =   80, loss = 1.8703)\n",
      "Saving model (epoch =   81, loss = 1.8607)\n",
      "Saving model (epoch =   82, loss = 1.8440)\n",
      "Saving model (epoch =   83, loss = 1.8252)\n",
      "Saving model (epoch =   84, loss = 1.8092)\n",
      "Saving model (epoch =   85, loss = 1.8002)\n",
      "Saving model (epoch =   86, loss = 1.7897)\n",
      "Saving model (epoch =   87, loss = 1.7732)\n",
      "Saving model (epoch =   88, loss = 1.7605)\n",
      "Saving model (epoch =   89, loss = 1.7470)\n",
      "Saving model (epoch =   90, loss = 1.7385)\n",
      "Saving model (epoch =   91, loss = 1.7266)\n",
      "Saving model (epoch =   92, loss = 1.7155)\n",
      "Saving model (epoch =   93, loss = 1.7043)\n",
      "Saving model (epoch =   94, loss = 1.6903)\n",
      "Saving model (epoch =   95, loss = 1.6831)\n",
      "Saving model (epoch =   96, loss = 1.6718)\n",
      "Saving model (epoch =   97, loss = 1.6599)\n",
      "Saving model (epoch =   98, loss = 1.6528)\n",
      "Saving model (epoch =   99, loss = 1.6421)\n",
      "Saving model (epoch =  100, loss = 1.6364)\n",
      "Saving model (epoch =  101, loss = 1.6257)\n",
      "Saving model (epoch =  102, loss = 1.6159)\n",
      "Saving model (epoch =  103, loss = 1.6086)\n",
      "Saving model (epoch =  104, loss = 1.6022)\n",
      "Saving model (epoch =  105, loss = 1.5933)\n",
      "Saving model (epoch =  106, loss = 1.5845)\n",
      "Saving model (epoch =  107, loss = 1.5775)\n",
      "Saving model (epoch =  108, loss = 1.5738)\n",
      "Saving model (epoch =  109, loss = 1.5650)\n",
      "Saving model (epoch =  110, loss = 1.5553)\n",
      "Saving model (epoch =  111, loss = 1.5504)\n",
      "Saving model (epoch =  112, loss = 1.5422)\n",
      "Saving model (epoch =  113, loss = 1.5366)\n",
      "Saving model (epoch =  114, loss = 1.5327)\n",
      "Saving model (epoch =  115, loss = 1.5281)\n",
      "Saving model (epoch =  116, loss = 1.5191)\n",
      "Saving model (epoch =  117, loss = 1.5114)\n",
      "Saving model (epoch =  119, loss = 1.5007)\n",
      "Saving model (epoch =  120, loss = 1.4952)\n",
      "Saving model (epoch =  122, loss = 1.4848)\n",
      "Saving model (epoch =  123, loss = 1.4791)\n",
      "Saving model (epoch =  125, loss = 1.4715)\n",
      "Saving model (epoch =  126, loss = 1.4667)\n",
      "Saving model (epoch =  127, loss = 1.4624)\n",
      "Saving model (epoch =  128, loss = 1.4589)\n",
      "Saving model (epoch =  129, loss = 1.4575)\n",
      "Saving model (epoch =  130, loss = 1.4525)\n",
      "Saving model (epoch =  131, loss = 1.4456)\n",
      "Saving model (epoch =  132, loss = 1.4443)\n",
      "Saving model (epoch =  133, loss = 1.4364)\n",
      "Saving model (epoch =  134, loss = 1.4299)\n",
      "Saving model (epoch =  135, loss = 1.4287)\n",
      "Saving model (epoch =  136, loss = 1.4240)\n",
      "Saving model (epoch =  137, loss = 1.4198)\n",
      "Saving model (epoch =  138, loss = 1.4168)\n",
      "Saving model (epoch =  140, loss = 1.4076)\n",
      "Saving model (epoch =  141, loss = 1.4047)\n",
      "Saving model (epoch =  143, loss = 1.3981)\n",
      "Saving model (epoch =  144, loss = 1.3962)\n",
      "Saving model (epoch =  145, loss = 1.3928)\n",
      "Saving model (epoch =  146, loss = 1.3873)\n",
      "Saving model (epoch =  147, loss = 1.3855)\n",
      "Saving model (epoch =  148, loss = 1.3775)\n",
      "Saving model (epoch =  150, loss = 1.3773)\n",
      "Saving model (epoch =  151, loss = 1.3737)\n",
      "Saving model (epoch =  152, loss = 1.3646)\n",
      "Saving model (epoch =  153, loss = 1.3641)\n",
      "Saving model (epoch =  155, loss = 1.3593)\n",
      "Saving model (epoch =  156, loss = 1.3582)\n",
      "Saving model (epoch =  157, loss = 1.3574)\n",
      "Saving model (epoch =  158, loss = 1.3510)\n",
      "Saving model (epoch =  159, loss = 1.3475)\n",
      "Saving model (epoch =  160, loss = 1.3412)\n",
      "Saving model (epoch =  161, loss = 1.3346)\n",
      "Saving model (epoch =  162, loss = 1.3342)\n",
      "Saving model (epoch =  164, loss = 1.3287)\n",
      "Saving model (epoch =  165, loss = 1.3252)\n",
      "Saving model (epoch =  166, loss = 1.3225)\n",
      "Saving model (epoch =  167, loss = 1.3173)\n",
      "Saving model (epoch =  169, loss = 1.3132)\n",
      "Saving model (epoch =  170, loss = 1.3130)\n",
      "Saving model (epoch =  171, loss = 1.3102)\n",
      "Saving model (epoch =  172, loss = 1.3062)\n",
      "Saving model (epoch =  173, loss = 1.3037)\n",
      "Saving model (epoch =  174, loss = 1.2978)\n",
      "Saving model (epoch =  175, loss = 1.2962)\n",
      "Saving model (epoch =  176, loss = 1.2944)\n",
      "Saving model (epoch =  177, loss = 1.2882)\n",
      "Saving model (epoch =  179, loss = 1.2851)\n",
      "Saving model (epoch =  180, loss = 1.2809)\n",
      "Saving model (epoch =  181, loss = 1.2801)\n",
      "Saving model (epoch =  182, loss = 1.2774)\n",
      "Saving model (epoch =  183, loss = 1.2736)\n",
      "Saving model (epoch =  185, loss = 1.2671)\n",
      "Saving model (epoch =  186, loss = 1.2658)\n",
      "Saving model (epoch =  188, loss = 1.2606)\n",
      "Saving model (epoch =  189, loss = 1.2579)\n",
      "Saving model (epoch =  191, loss = 1.2519)\n",
      "Saving model (epoch =  193, loss = 1.2447)\n",
      "Saving model (epoch =  194, loss = 1.2411)\n",
      "Saving model (epoch =  197, loss = 1.2398)\n",
      "Saving model (epoch =  198, loss = 1.2339)\n",
      "Saving model (epoch =  199, loss = 1.2306)\n",
      "Saving model (epoch =  201, loss = 1.2303)\n",
      "Saving model (epoch =  202, loss = 1.2260)\n",
      "Saving model (epoch =  203, loss = 1.2250)\n",
      "Saving model (epoch =  204, loss = 1.2204)\n",
      "Saving model (epoch =  205, loss = 1.2195)\n",
      "Saving model (epoch =  206, loss = 1.2139)\n",
      "Saving model (epoch =  209, loss = 1.2091)\n",
      "Saving model (epoch =  210, loss = 1.2050)\n",
      "Saving model (epoch =  213, loss = 1.1975)\n",
      "Saving model (epoch =  216, loss = 1.1958)\n",
      "Saving model (epoch =  217, loss = 1.1942)\n",
      "Saving model (epoch =  218, loss = 1.1880)\n",
      "Saving model (epoch =  219, loss = 1.1865)\n",
      "Saving model (epoch =  221, loss = 1.1857)\n",
      "Saving model (epoch =  222, loss = 1.1807)\n",
      "Saving model (epoch =  224, loss = 1.1790)\n",
      "Saving model (epoch =  225, loss = 1.1730)\n",
      "Saving model (epoch =  226, loss = 1.1719)\n",
      "Saving model (epoch =  228, loss = 1.1696)\n",
      "Saving model (epoch =  229, loss = 1.1664)\n",
      "Saving model (epoch =  231, loss = 1.1659)\n",
      "Saving model (epoch =  232, loss = 1.1614)\n",
      "Saving model (epoch =  233, loss = 1.1564)\n",
      "Saving model (epoch =  236, loss = 1.1527)\n",
      "Saving model (epoch =  237, loss = 1.1496)\n",
      "Saving model (epoch =  240, loss = 1.1480)\n",
      "Saving model (epoch =  241, loss = 1.1447)\n",
      "Saving model (epoch =  242, loss = 1.1397)\n",
      "Saving model (epoch =  245, loss = 1.1382)\n",
      "Saving model (epoch =  246, loss = 1.1379)\n",
      "Saving model (epoch =  247, loss = 1.1349)\n",
      "Saving model (epoch =  248, loss = 1.1270)\n",
      "Saving model (epoch =  251, loss = 1.1266)\n",
      "Saving model (epoch =  253, loss = 1.1220)\n",
      "Saving model (epoch =  254, loss = 1.1190)\n",
      "Saving model (epoch =  257, loss = 1.1104)\n",
      "Saving model (epoch =  258, loss = 1.1099)\n",
      "Saving model (epoch =  262, loss = 1.1056)\n",
      "Saving model (epoch =  263, loss = 1.1050)\n",
      "Saving model (epoch =  265, loss = 1.1042)\n",
      "Saving model (epoch =  266, loss = 1.1035)\n",
      "Saving model (epoch =  267, loss = 1.0994)\n",
      "Saving model (epoch =  268, loss = 1.0959)\n",
      "Saving model (epoch =  271, loss = 1.0944)\n",
      "Saving model (epoch =  272, loss = 1.0934)\n",
      "Saving model (epoch =  273, loss = 1.0899)\n",
      "Saving model (epoch =  274, loss = 1.0866)\n",
      "Saving model (epoch =  277, loss = 1.0839)\n",
      "Saving model (epoch =  279, loss = 1.0835)\n",
      "Saving model (epoch =  280, loss = 1.0787)\n",
      "Saving model (epoch =  282, loss = 1.0782)\n",
      "Saving model (epoch =  284, loss = 1.0778)\n",
      "Saving model (epoch =  285, loss = 1.0764)\n",
      "Saving model (epoch =  286, loss = 1.0723)\n",
      "Saving model (epoch =  288, loss = 1.0709)\n",
      "Saving model (epoch =  290, loss = 1.0703)\n",
      "Saving model (epoch =  291, loss = 1.0657)\n",
      "Saving model (epoch =  293, loss = 1.0617)\n",
      "Saving model (epoch =  295, loss = 1.0616)\n",
      "Saving model (epoch =  296, loss = 1.0546)\n",
      "Saving model (epoch =  301, loss = 1.0539)\n",
      "Saving model (epoch =  303, loss = 1.0536)\n",
      "Saving model (epoch =  304, loss = 1.0506)\n",
      "Saving model (epoch =  305, loss = 1.0475)\n",
      "Saving model (epoch =  308, loss = 1.0465)\n",
      "Saving model (epoch =  309, loss = 1.0457)\n",
      "Saving model (epoch =  310, loss = 1.0431)\n",
      "Saving model (epoch =  311, loss = 1.0416)\n",
      "Saving model (epoch =  312, loss = 1.0389)\n",
      "Saving model (epoch =  315, loss = 1.0372)\n",
      "Saving model (epoch =  317, loss = 1.0363)\n",
      "Saving model (epoch =  318, loss = 1.0322)\n",
      "Saving model (epoch =  319, loss = 1.0311)\n",
      "Saving model (epoch =  320, loss = 1.0300)\n",
      "Saving model (epoch =  322, loss = 1.0299)\n",
      "Saving model (epoch =  323, loss = 1.0295)\n",
      "Saving model (epoch =  324, loss = 1.0263)\n",
      "Saving model (epoch =  325, loss = 1.0246)\n",
      "Saving model (epoch =  328, loss = 1.0233)\n",
      "Saving model (epoch =  329, loss = 1.0193)\n",
      "Saving model (epoch =  334, loss = 1.0174)\n",
      "Saving model (epoch =  336, loss = 1.0112)\n",
      "Saving model (epoch =  339, loss = 1.0102)\n",
      "Saving model (epoch =  344, loss = 1.0049)\n",
      "Saving model (epoch =  348, loss = 1.0047)\n",
      "Saving model (epoch =  350, loss = 1.0043)\n",
      "Saving model (epoch =  351, loss = 1.0010)\n",
      "Saving model (epoch =  355, loss = 0.9996)\n",
      "Saving model (epoch =  356, loss = 0.9957)\n",
      "Saving model (epoch =  359, loss = 0.9912)\n",
      "Saving model (epoch =  368, loss = 0.9834)\n",
      "Saving model (epoch =  372, loss = 0.9819)\n",
      "Saving model (epoch =  373, loss = 0.9818)\n",
      "Saving model (epoch =  376, loss = 0.9816)\n",
      "Saving model (epoch =  382, loss = 0.9765)\n",
      "Saving model (epoch =  387, loss = 0.9746)\n",
      "Saving model (epoch =  388, loss = 0.9715)\n",
      "Saving model (epoch =  392, loss = 0.9701)\n",
      "Saving model (epoch =  395, loss = 0.9673)\n",
      "Saving model (epoch =  398, loss = 0.9625)\n",
      "Saving model (epoch =  406, loss = 0.9607)\n",
      "Saving model (epoch =  408, loss = 0.9584)\n",
      "Saving model (epoch =  413, loss = 0.9552)\n",
      "Saving model (epoch =  416, loss = 0.9537)\n",
      "Saving model (epoch =  422, loss = 0.9521)\n",
      "Saving model (epoch =  424, loss = 0.9477)\n",
      "Saving model (epoch =  428, loss = 0.9477)\n",
      "Saving model (epoch =  430, loss = 0.9441)\n",
      "Saving model (epoch =  432, loss = 0.9434)\n",
      "Saving model (epoch =  435, loss = 0.9422)\n",
      "Saving model (epoch =  439, loss = 0.9385)\n",
      "Saving model (epoch =  441, loss = 0.9375)\n",
      "Saving model (epoch =  447, loss = 0.9365)\n",
      "Saving model (epoch =  450, loss = 0.9355)\n",
      "Saving model (epoch =  452, loss = 0.9350)\n",
      "Saving model (epoch =  453, loss = 0.9333)\n",
      "Saving model (epoch =  459, loss = 0.9329)\n",
      "Saving model (epoch =  460, loss = 0.9309)\n",
      "Saving model (epoch =  463, loss = 0.9279)\n",
      "Saving model (epoch =  466, loss = 0.9243)\n",
      "Saving model (epoch =  471, loss = 0.9236)\n",
      "Saving model (epoch =  474, loss = 0.9214)\n",
      "Saving model (epoch =  478, loss = 0.9192)\n",
      "Saving model (epoch =  481, loss = 0.9173)\n",
      "Saving model (epoch =  486, loss = 0.9136)\n",
      "Saving model (epoch =  490, loss = 0.9122)\n",
      "Saving model (epoch =  501, loss = 0.9098)\n",
      "Saving model (epoch =  502, loss = 0.9084)\n",
      "Saving model (epoch =  505, loss = 0.9079)\n",
      "Saving model (epoch =  510, loss = 0.9030)\n",
      "Saving model (epoch =  518, loss = 0.9012)\n",
      "Saving model (epoch =  519, loss = 0.8999)\n",
      "Saving model (epoch =  524, loss = 0.8982)\n",
      "Saving model (epoch =  527, loss = 0.8968)\n",
      "Saving model (epoch =  533, loss = 0.8963)\n",
      "Saving model (epoch =  536, loss = 0.8961)\n",
      "Saving model (epoch =  538, loss = 0.8957)\n",
      "Saving model (epoch =  541, loss = 0.8940)\n",
      "Saving model (epoch =  545, loss = 0.8935)\n",
      "Saving model (epoch =  550, loss = 0.8914)\n",
      "Saving model (epoch =  555, loss = 0.8901)\n",
      "Saving model (epoch =  560, loss = 0.8870)\n",
      "Saving model (epoch =  561, loss = 0.8870)\n",
      "Saving model (epoch =  565, loss = 0.8835)\n",
      "Saving model (epoch =  574, loss = 0.8819)\n",
      "Saving model (epoch =  583, loss = 0.8804)\n",
      "Saving model (epoch =  589, loss = 0.8788)\n",
      "Saving model (epoch =  592, loss = 0.8740)\n",
      "Saving model (epoch =  604, loss = 0.8733)\n",
      "Saving model (epoch =  609, loss = 0.8730)\n",
      "Saving model (epoch =  614, loss = 0.8718)\n",
      "Saving model (epoch =  617, loss = 0.8697)\n",
      "Saving model (epoch =  622, loss = 0.8689)\n",
      "Saving model (epoch =  624, loss = 0.8678)\n",
      "Saving model (epoch =  627, loss = 0.8671)\n",
      "Saving model (epoch =  632, loss = 0.8665)\n",
      "Saving model (epoch =  635, loss = 0.8623)\n",
      "Saving model (epoch =  657, loss = 0.8606)\n",
      "Saving model (epoch =  664, loss = 0.8589)\n",
      "Saving model (epoch =  670, loss = 0.8569)\n",
      "Saving model (epoch =  673, loss = 0.8556)\n",
      "Saving model (epoch =  681, loss = 0.8556)\n",
      "Saving model (epoch =  686, loss = 0.8544)\n",
      "Saving model (epoch =  691, loss = 0.8537)\n",
      "Saving model (epoch =  704, loss = 0.8532)\n",
      "Saving model (epoch =  707, loss = 0.8525)\n",
      "Saving model (epoch =  717, loss = 0.8498)\n",
      "Saving model (epoch =  724, loss = 0.8493)\n",
      "Saving model (epoch =  727, loss = 0.8477)\n",
      "Saving model (epoch =  732, loss = 0.8470)\n",
      "Saving model (epoch =  738, loss = 0.8453)\n",
      "Saving model (epoch =  744, loss = 0.8445)\n",
      "Saving model (epoch =  746, loss = 0.8406)\n",
      "Saving model (epoch =  779, loss = 0.8351)\n",
      "Saving model (epoch =  816, loss = 0.8329)\n",
      "Saving model (epoch =  837, loss = 0.8312)\n",
      "Saving model (epoch =  882, loss = 0.8302)\n",
      "Saving model (epoch =  890, loss = 0.8301)\n",
      "Saving model (epoch =  909, loss = 0.8298)\n",
      "Saving model (epoch =  913, loss = 0.8294)\n",
      "Saving model (epoch =  916, loss = 0.8278)\n",
      "Saving model (epoch =  946, loss = 0.8251)\n",
      "Saving model (epoch =  991, loss = 0.8246)\n",
      "Saving model (epoch = 1032, loss = 0.8244)\n",
      "Saving model (epoch = 1050, loss = 0.8230)\n",
      "Saving model (epoch = 1068, loss = 0.8222)\n",
      "Saving model (epoch = 1089, loss = 0.8191)\n",
      "Saving model (epoch = 1233, loss = 0.8179)\n",
      "Finished training after 1434 epochs\n"
     ]
    }
   ],
   "execution_count": 13
  },
  {
   "cell_type": "code",
   "metadata": {
    "colab": {
     "base_uri": "https://localhost:8080/",
     "height": 410
    },
    "id": "hsNO9nnXQBvP",
    "outputId": "d0c20e01-d082-4595-feb4-2fa85813d169",
    "ExecuteTime": {
     "end_time": "2025-09-09T10:56:53.470724Z",
     "start_time": "2025-09-09T10:56:53.308036Z"
    }
   },
   "source": [
    "plot_learning_curve(model_loss_record, title='deep model')"
   ],
   "outputs": [
    {
     "data": {
      "text/plain": [
       "<Figure size 600x400 with 1 Axes>"
      ],
      "image/png": "[encoded data removed]"
     },
     "metadata": {},
     "output_type": "display_data"
    }
   ],
   "execution_count": 14
  },
  {
   "cell_type": "code",
   "metadata": {
    "colab": {
     "base_uri": "https://localhost:8080/",
     "height": 487
    },
    "id": "3iZTVn5WQFpX",
    "outputId": "9629dfdc-cbaf-4a91-c4d4-682d29d4057b",
    "ExecuteTime": {
     "end_time": "2025-09-09T10:59:10.774181Z",
     "start_time": "2025-09-09T10:59:10.691502Z"
    }
   },
   "source": [
    "del model\n",
    "model = NeuralNet(tr_set.dataset.dim).to(device)\n",
    "ckpt = torch.load(config['save_path'],weights_only=True, map_location='cpu')  # Load your best model\n",
    "model.load_state_dict(ckpt)\n",
    "plot_pred(dv_set, model, device)  # Show prediction on the validation set"
   ],
   "outputs": [
    {
     "data": {
      "text/plain": [
       "<Figure size 500x500 with 1 Axes>"
      ],
      "image/png": "[encoded data removed]"
     },
     "metadata": {},
     "output_type": "display_data"
    }
   ],
   "execution_count": 18
  },
  {
   "cell_type": "markdown",
   "metadata": {
    "id": "aQikz3IPiyPf"
   },
   "source": [
    "# **Testing**\n",
    "The predictions of your model on testing set will be stored at `pred.csv`."
   ]
  },
  {
   "cell_type": "code",
   "source": [],
   "metadata": {
    "id": "UgDEDtQEhaGi",
    "ExecuteTime": {
     "end_time": "2025-09-09T10:59:13.420988Z",
     "start_time": "2025-09-09T10:59:13.418277Z"
    }
   },
   "outputs": [],
   "execution_count": 18
  },
  {
   "cell_type": "code",
   "metadata": {
    "colab": {
     "base_uri": "https://localhost:8080/"
    },
    "id": "O8cTuQjQQOon",
    "outputId": "7c3d5f5e-4b04-42b6-d3ff-464f4eb55978",
    "ExecuteTime": {
     "end_time": "2025-09-09T10:59:14.148387Z",
     "start_time": "2025-09-09T10:59:14.138904Z"
    }
   },
   "source": [
    "def save_pred(preds, file):\n",
    "    ''' Save predictions to specified file '''\n",
    "    print('Saving results to {}'.format(file))\n",
    "    with open(file, 'w') as fp:\n",
    "        writer = csv.writer(fp)\n",
    "        writer.writerow(['id', 'tested_positive'])\n",
    "        for i, p in enumerate(preds):\n",
    "            writer.writerow([i, p])\n",
    "\n",
    "preds = test(tt_set, model, device)  # predict COVID-19 cases with your model\n",
    "save_pred(preds, 'pred.csv')         # save prediction file to pred.csv"
   ],
   "outputs": [
    {
     "name": "stdout",
     "output_type": "stream",
     "text": [
      "Saving results to pred.csv\n"
     ]
    }
   ],
   "execution_count": 19
  },
  {
   "cell_type": "markdown",
   "metadata": {
    "id": "nfrVxqJanGpE"
   },
   "source": [
    "# **Hints**\n",
    "\n",
    "## **Simple Baseline**\n",
    "* Run sample code\n",
    "\n",
    "## **Medium Baseline**\n",
    "* Feature selection: 40 states + 2 `tested_positive` (`TODO` in dataset)\n",
    "\n",
    "## **Strong Baseline**\n",
    "* Feature selection (what other features are useful?)\n",
    "* DNN architecture (layers? dimension? activation function?)\n",
    "* Training (mini-batch? optimizer? learning rate?)\n",
    "* L2 regularization\n",
    "* There are some mistakes in the sample code, can you find them?"
   ]
  },
  {
   "cell_type": "markdown",
   "metadata": {
    "id": "9tmCwXgpot3t"
   },
   "source": [
    "# **Reference**\n",
    "This code is completely written by Heng-Jui Chang @ NTUEE.  \n",
    "Copying or reusing this code is required to specify the original author.\n",
    "\n",
    "E.g.  \n",
    "Source: Heng-Jui Chang @ NTUEE (https://github.com/ga642381/ML2021-Spring/blob/main/HW01/HW01.ipynb)\n"
   ]
  },
  {
   "metadata": {},
   "cell_type": "code",
   "outputs": [],
   "execution_count": null,
   "source": ""
  }
 ]
}
